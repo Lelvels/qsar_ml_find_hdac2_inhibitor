{
 "cells": [
  {
   "cell_type": "code",
   "execution_count": 59,
   "metadata": {},
   "outputs": [],
   "source": [
    "import pandas as pd\n",
    "import tmap as tmap\n",
    "from faerun import Faerun\n",
    "\n",
    "from rdkit.Chem import AllChem\n",
    "from rdkit import Chem\n",
    "from rdkit.Chem import Descriptors, MACCSkeys\n",
    "from rdkit.ML.Descriptors import MoleculeDescriptors\n",
    "from matplotlib.colors import ListedColormap\n",
    "from rdkit.Chem.Descriptors import ExactMolWt\n",
    "\n",
    "import pandas as pd\n",
    "import numpy as np"
   ]
  },
  {
   "cell_type": "code",
   "execution_count": 60,
   "metadata": {},
   "outputs": [],
   "source": [
    "#Train test data\n",
    "train_test_path = \"../../data_for_modeling/train_test_data/new_HDAC2_train_test_data.xlsx\"\n",
    "train_dataset = pd.read_excel(train_test_path, sheet_name='train_dataset')\n",
    "test_dataset = pd.read_excel(train_test_path, sheet_name='test_dataset')\n",
    "validation_dataset = pd.read_excel(train_test_path, sheet_name='validation_dataset')\n",
    "\n",
    "#Add data belonging\n",
    "belong_col_name = \"Belong_to\"\n",
    "train_dataset[belong_col_name] = \"Training data\"\n",
    "test_dataset[belong_col_name] = \"Testing data\"\n",
    "validation_dataset[belong_col_name] = \"Validation data\"\n",
    "\n",
    "#Train_test_dataset = combine of all three\n",
    "all_dataset = pd.concat([train_dataset, validation_dataset, test_dataset], axis=0)\n",
    "\n",
    "#Getting the classifier\n",
    "all_data_path = \"../../data_for_modeling/raw_data/new_HDAC2_raw_data.xlsx\"\n",
    "zgb_classifer_df = pd.read_excel(all_data_path, sheet_name='zbg_classifier_id')"
   ]
  },
  {
   "cell_type": "code",
   "execution_count": 61,
   "metadata": {},
   "outputs": [
    {
     "name": "stdout",
     "output_type": "stream",
     "text": [
      "1966 421 422 2809\n"
     ]
    }
   ],
   "source": [
    "print(len(train_dataset), len(test_dataset), len(validation_dataset), len(all_dataset))"
   ]
  },
  {
   "cell_type": "code",
   "execution_count": 62,
   "metadata": {},
   "outputs": [
    {
     "data": {
      "text/html": [
       "<div>\n",
       "<style scoped>\n",
       "    .dataframe tbody tr th:only-of-type {\n",
       "        vertical-align: middle;\n",
       "    }\n",
       "\n",
       "    .dataframe tbody tr th {\n",
       "        vertical-align: top;\n",
       "    }\n",
       "\n",
       "    .dataframe thead th {\n",
       "        text-align: right;\n",
       "    }\n",
       "</style>\n",
       "<table border=\"1\" class=\"dataframe\">\n",
       "  <thead>\n",
       "    <tr style=\"text-align: right;\">\n",
       "      <th></th>\n",
       "      <th>CID</th>\n",
       "      <th>SMILES</th>\n",
       "      <th>Categories</th>\n",
       "      <th>ZBG Classified</th>\n",
       "      <th>Unnamed: 4</th>\n",
       "      <th>Unnamed: 5</th>\n",
       "      <th>Unnamed: 6</th>\n",
       "      <th>Belong_to</th>\n",
       "    </tr>\n",
       "  </thead>\n",
       "  <tbody>\n",
       "    <tr>\n",
       "      <th>0</th>\n",
       "      <td>71465855</td>\n",
       "      <td>Nc1ccc(cc1NC(=O)N1CCOCC1)-c1cccs1</td>\n",
       "      <td>active</td>\n",
       "      <td>21</td>\n",
       "      <td>NaN</td>\n",
       "      <td>NaN</td>\n",
       "      <td>NaN</td>\n",
       "      <td>Training data</td>\n",
       "    </tr>\n",
       "    <tr>\n",
       "      <th>1</th>\n",
       "      <td>5281220</td>\n",
       "      <td>O=C1/C(=C/c2ccc(O)c(O)c2)Oc2cc(O)cc(O)c21</td>\n",
       "      <td>inactive</td>\n",
       "      <td>5</td>\n",
       "      <td>NaN</td>\n",
       "      <td>NaN</td>\n",
       "      <td>NaN</td>\n",
       "      <td>Training data</td>\n",
       "    </tr>\n",
       "    <tr>\n",
       "      <th>2</th>\n",
       "      <td>162654159</td>\n",
       "      <td>CCC(=O)CCCCC[C@H](NC(=O)[C@H]1CC12CCN(C)CC2)c1...</td>\n",
       "      <td>inactive</td>\n",
       "      <td>5</td>\n",
       "      <td>15.0</td>\n",
       "      <td>NaN</td>\n",
       "      <td>NaN</td>\n",
       "      <td>Training data</td>\n",
       "    </tr>\n",
       "    <tr>\n",
       "      <th>3</th>\n",
       "      <td>44571332</td>\n",
       "      <td>O=C(NO)c1ccc(CN2C(=O)CNC(=O)[C@H]2Cc2cccs2)cc1</td>\n",
       "      <td>inactive</td>\n",
       "      <td>1</td>\n",
       "      <td>15.0</td>\n",
       "      <td>NaN</td>\n",
       "      <td>NaN</td>\n",
       "      <td>Training data</td>\n",
       "    </tr>\n",
       "    <tr>\n",
       "      <th>4</th>\n",
       "      <td>130361881</td>\n",
       "      <td>O=C(NO)c1ccc(CN2CCCc3ccccc32)cc1</td>\n",
       "      <td>inactive</td>\n",
       "      <td>1</td>\n",
       "      <td>15.0</td>\n",
       "      <td>NaN</td>\n",
       "      <td>NaN</td>\n",
       "      <td>Training data</td>\n",
       "    </tr>\n",
       "  </tbody>\n",
       "</table>\n",
       "</div>"
      ],
      "text/plain": [
       "         CID                                             SMILES Categories  \\\n",
       "0   71465855                  Nc1ccc(cc1NC(=O)N1CCOCC1)-c1cccs1     active   \n",
       "1    5281220          O=C1/C(=C/c2ccc(O)c(O)c2)Oc2cc(O)cc(O)c21   inactive   \n",
       "2  162654159  CCC(=O)CCCCC[C@H](NC(=O)[C@H]1CC12CCN(C)CC2)c1...   inactive   \n",
       "3   44571332     O=C(NO)c1ccc(CN2C(=O)CNC(=O)[C@H]2Cc2cccs2)cc1   inactive   \n",
       "4  130361881                   O=C(NO)c1ccc(CN2CCCc3ccccc32)cc1   inactive   \n",
       "\n",
       "   ZBG Classified  Unnamed: 4  Unnamed: 5  Unnamed: 6      Belong_to  \n",
       "0              21         NaN         NaN         NaN  Training data  \n",
       "1               5         NaN         NaN         NaN  Training data  \n",
       "2               5        15.0         NaN         NaN  Training data  \n",
       "3               1        15.0         NaN         NaN  Training data  \n",
       "4               1        15.0         NaN         NaN  Training data  "
      ]
     },
     "execution_count": 62,
     "metadata": {},
     "output_type": "execute_result"
    }
   ],
   "source": [
    "all_dataset.head()"
   ]
  },
  {
   "cell_type": "code",
   "execution_count": 63,
   "metadata": {},
   "outputs": [
    {
     "data": {
      "text/html": [
       "<div>\n",
       "<style scoped>\n",
       "    .dataframe tbody tr th:only-of-type {\n",
       "        vertical-align: middle;\n",
       "    }\n",
       "\n",
       "    .dataframe tbody tr th {\n",
       "        vertical-align: top;\n",
       "    }\n",
       "\n",
       "    .dataframe thead th {\n",
       "        text-align: right;\n",
       "    }\n",
       "</style>\n",
       "<table border=\"1\" class=\"dataframe\">\n",
       "  <thead>\n",
       "    <tr style=\"text-align: right;\">\n",
       "      <th></th>\n",
       "      <th>ZBG Classified</th>\n",
       "      <th>Name</th>\n",
       "    </tr>\n",
       "  </thead>\n",
       "  <tbody>\n",
       "    <tr>\n",
       "      <th>0</th>\n",
       "      <td>1</td>\n",
       "      <td>Acid hydroxamic</td>\n",
       "    </tr>\n",
       "    <tr>\n",
       "      <th>1</th>\n",
       "      <td>2</td>\n",
       "      <td>N-substituted hydroxamic acid</td>\n",
       "    </tr>\n",
       "    <tr>\n",
       "      <th>2</th>\n",
       "      <td>3</td>\n",
       "      <td>Carboxylic acid</td>\n",
       "    </tr>\n",
       "    <tr>\n",
       "      <th>3</th>\n",
       "      <td>4</td>\n",
       "      <td>Benzamide</td>\n",
       "    </tr>\n",
       "    <tr>\n",
       "      <th>4</th>\n",
       "      <td>5</td>\n",
       "      <td>Alkyl ketone, aryl ketone, epoxyketone</td>\n",
       "    </tr>\n",
       "    <tr>\n",
       "      <th>5</th>\n",
       "      <td>6</td>\n",
       "      <td>Cyclic peptides and cyclic peptides</td>\n",
       "    </tr>\n",
       "    <tr>\n",
       "      <th>6</th>\n",
       "      <td>8</td>\n",
       "      <td>Trifluoromethylketone, trifluoromethyloxadiazole</td>\n",
       "    </tr>\n",
       "    <tr>\n",
       "      <th>7</th>\n",
       "      <td>9</td>\n",
       "      <td>Thiol</td>\n",
       "    </tr>\n",
       "    <tr>\n",
       "      <th>8</th>\n",
       "      <td>10</td>\n",
       "      <td>Boronic acid</td>\n",
       "    </tr>\n",
       "    <tr>\n",
       "      <th>9</th>\n",
       "      <td>11</td>\n",
       "      <td>Disulfide</td>\n",
       "    </tr>\n",
       "    <tr>\n",
       "      <th>10</th>\n",
       "      <td>12</td>\n",
       "      <td>Amino acid derivative</td>\n",
       "    </tr>\n",
       "    <tr>\n",
       "      <th>11</th>\n",
       "      <td>13</td>\n",
       "      <td>Tropolone</td>\n",
       "    </tr>\n",
       "    <tr>\n",
       "      <th>12</th>\n",
       "      <td>14</td>\n",
       "      <td>3-hydroxypyridin-2-thione</td>\n",
       "    </tr>\n",
       "    <tr>\n",
       "      <th>13</th>\n",
       "      <td>15</td>\n",
       "      <td>Carboxamide</td>\n",
       "    </tr>\n",
       "    <tr>\n",
       "      <th>14</th>\n",
       "      <td>16</td>\n",
       "      <td>Benzoyl-hydrazide</td>\n",
       "    </tr>\n",
       "    <tr>\n",
       "      <th>15</th>\n",
       "      <td>17</td>\n",
       "      <td>Hydroxypyrimidine</td>\n",
       "    </tr>\n",
       "    <tr>\n",
       "      <th>16</th>\n",
       "      <td>18</td>\n",
       "      <td>Hydroxyureas</td>\n",
       "    </tr>\n",
       "    <tr>\n",
       "      <th>17</th>\n",
       "      <td>19</td>\n",
       "      <td>Chalcone</td>\n",
       "    </tr>\n",
       "    <tr>\n",
       "      <th>18</th>\n",
       "      <td>20</td>\n",
       "      <td>Aniline-benzamid</td>\n",
       "    </tr>\n",
       "    <tr>\n",
       "      <th>19</th>\n",
       "      <td>21</td>\n",
       "      <td>Others</td>\n",
       "    </tr>\n",
       "  </tbody>\n",
       "</table>\n",
       "</div>"
      ],
      "text/plain": [
       "    ZBG Classified                                              Name\n",
       "0                1                                   Acid hydroxamic\n",
       "1                2                     N-substituted hydroxamic acid\n",
       "2                3                                   Carboxylic acid\n",
       "3                4                                         Benzamide\n",
       "4                5            Alkyl ketone, aryl ketone, epoxyketone\n",
       "5                6               Cyclic peptides and cyclic peptides\n",
       "6                8  Trifluoromethylketone, trifluoromethyloxadiazole\n",
       "7                9                                             Thiol\n",
       "8               10                                      Boronic acid\n",
       "9               11                                         Disulfide\n",
       "10              12                             Amino acid derivative\n",
       "11              13                                         Tropolone\n",
       "12              14                         3-hydroxypyridin-2-thione\n",
       "13              15                                       Carboxamide\n",
       "14              16                                 Benzoyl-hydrazide\n",
       "15              17                                 Hydroxypyrimidine\n",
       "16              18                                      Hydroxyureas\n",
       "17              19                                          Chalcone\n",
       "18              20                                  Aniline-benzamid\n",
       "19              21                                            Others"
      ]
     },
     "execution_count": 63,
     "metadata": {},
     "output_type": "execute_result"
    }
   ],
   "source": [
    "zgb_classifer_df"
   ]
  },
  {
   "cell_type": "code",
   "execution_count": 64,
   "metadata": {},
   "outputs": [
    {
     "data": {
      "text/plain": [
       "{1: 'Acid hydroxamic',\n",
       " 2: 'N-substituted hydroxamic acid',\n",
       " 3: 'Carboxylic acid',\n",
       " 4: 'Benzamide',\n",
       " 5: 'Alkyl ketone, aryl ketone, epoxyketone',\n",
       " 6: 'Cyclic peptides and cyclic peptides',\n",
       " 8: 'Trifluoromethylketone, trifluoromethyloxadiazole',\n",
       " 9: 'Thiol',\n",
       " 10: 'Boronic acid',\n",
       " 11: 'Disulfide',\n",
       " 12: 'Amino acid derivative',\n",
       " 13: 'Tropolone',\n",
       " 14: '3-hydroxypyridin-2-thione',\n",
       " 15: 'Carboxamide',\n",
       " 16: 'Benzoyl-hydrazide',\n",
       " 17: 'Hydroxypyrimidine',\n",
       " 18: 'Hydroxyureas',\n",
       " 19: 'Chalcone',\n",
       " 20: 'Aniline-benzamid',\n",
       " 21: 'Others'}"
      ]
     },
     "execution_count": 64,
     "metadata": {},
     "output_type": "execute_result"
    }
   ],
   "source": [
    "zgb_dict = zgb_classifer_df.set_index('ZBG Classified')['Name'].to_dict()\n",
    "zgb_dict"
   ]
  },
  {
   "cell_type": "code",
   "execution_count": 65,
   "metadata": {},
   "outputs": [],
   "source": [
    "#MACCS\n",
    "from tqdm import tqdm\n",
    "\n",
    "def tmap_maccs_fpts(data):\n",
    "    Maccs_fpts = []\n",
    "    count = 0\n",
    "    with tqdm(total=len(data), desc='Progress') as pbar:\n",
    "        for i in data:\n",
    "            try:\n",
    "                mol = Chem.MolFromSmiles(i)\n",
    "            except:\n",
    "                print(\"An exception occurred with \" + str(count))\n",
    "                continue\n",
    "            fpts = MACCSkeys.GenMACCSKeys(mol)\n",
    "            mfpts = np.array(fpts)\n",
    "            mfpts = tmap.VectorUint(mfpts)\n",
    "            Maccs_fpts.append(mfpts)\n",
    "            count += 1\n",
    "            pbar.update(1)  # Update the progress bar\n",
    "    return np.array(Maccs_fpts)\n",
    "\n",
    "#Morgan2\n",
    "def tmap_morgan_fpts(data):\n",
    "    Morgan_fpts = []\n",
    "    count = 0\n",
    "    with tqdm(total=len(data), desc='Progress') as pbar:\n",
    "        for i in data:\n",
    "            try:\n",
    "                mol = Chem.MolFromSmiles(i)\n",
    "            except:\n",
    "                print(\"An exception occurred with \" + str(count))\n",
    "                continue\n",
    "            fpts = AllChem.GetMorganFingerprintAsBitVect(mol, 2, 1024)\n",
    "            mfpts = np.array(fpts)\n",
    "            mfpts = tmap.VectorUint(mfpts)\n",
    "            Morgan_fpts.append(mfpts)\n",
    "            count += 1\n",
    "            pbar.update(1)  # Update the progress bar\n",
    "    return Morgan_fpts\n",
    "\n",
    "def ecfp4_tmap_fpts(data):\n",
    "    all_fpts = []\n",
    "    count = 0\n",
    "    with tqdm(total=len(data), desc='Progress') as pbar:\n",
    "        for i in data:\n",
    "            try:\n",
    "                mol = Chem.MolFromSmiles(i)\n",
    "                fpts = AllChem.GetMorganFingerprintAsBitVect(mol=mol, radius=2, nBits=2048)\n",
    "            except:\n",
    "                print(\"An exception occurred with \" + str(count))\n",
    "                continue\n",
    "            mfpts = np.array(fpts)\n",
    "            mfpts = tmap.VectorUint(mfpts)\n",
    "            all_fpts.append(mfpts)\n",
    "            count += 1\n",
    "            pbar.update(1)  # Update the progress bar\n",
    "    return np.array(all_fpts)"
   ]
  },
  {
   "cell_type": "code",
   "execution_count": 66,
   "metadata": {},
   "outputs": [
    {
     "name": "stderr",
     "output_type": "stream",
     "text": [
      "Progress:   0%|          | 0/2809 [00:00<?, ?it/s]"
     ]
    },
    {
     "name": "stderr",
     "output_type": "stream",
     "text": [
      "Progress: 100%|██████████| 2809/2809 [00:01<00:00, 1545.77it/s]\n"
     ]
    }
   ],
   "source": [
    "# fps = tmap_maccs_fpts(all_dataset[\"SMILES\"])\n",
    "fps = ecfp4_tmap_fpts(all_dataset[\"SMILES\"])"
   ]
  },
  {
   "cell_type": "markdown",
   "metadata": {},
   "source": [
    "# Generate Tmap Layout"
   ]
  },
  {
   "cell_type": "markdown",
   "metadata": {},
   "source": [
    "Generate labels"
   ]
  },
  {
   "cell_type": "code",
   "execution_count": 67,
   "metadata": {},
   "outputs": [],
   "source": [
    "# ic50 = []\n",
    "labels = []\n",
    "belong_to_groups = []\n",
    "zbg_classifier_groups = []\n",
    "active_inactive_groups = []\n",
    "molecular_weight = []\n",
    "chembl_url = \"https://www.ebi.ac.uk/chembl/compound_report_card/\"\n",
    "pubchem_url = \"https://pubchem.ncbi.nlm.nih.gov/compound/\"\n",
    "\n",
    "for i, row in all_dataset.iterrows():\n",
    "    smiles = row['SMILES']\n",
    "    mol = AllChem.MolFromSmiles(smiles)\n",
    "    cid = str(row['CID'])\n",
    "    if cid[-1].isalpha():\n",
    "        cid = cid[:-1]\n",
    "    \n",
    "    labels.append(\n",
    "            f'{smiles}__<a href=\"{pubchem_url+str(cid)}\" target=\"_blank\">{smiles}</a>__{smiles}'.replace(\n",
    "                \"'\", \"\"\n",
    "            )\n",
    "        )\n",
    "    # ic50.append(row['AVG_IC50_nM'])\n",
    "    # zbg labels groups\n",
    "    zbg_classifier_groups.append(zgb_dict[row['ZBG Classified']])\n",
    "    #Active inactive label groups\n",
    "    active_inactive_groups.append(row['Categories'])\n",
    "    #Belong to groups\n",
    "    belong_to_groups.append(row[belong_col_name])\n",
    "    #Molecular weight\n",
    "    smiles_mw = ExactMolWt(mol)\n",
    "    molecular_weight.append(smiles_mw)"
   ]
  },
  {
   "cell_type": "code",
   "execution_count": 68,
   "metadata": {},
   "outputs": [
    {
     "name": "stdout",
     "output_type": "stream",
     "text": [
      "2809 2809 2809 2809\n"
     ]
    }
   ],
   "source": [
    "# print(len(belong_to_groups), len(ic50), len(zbg_classifier_groups), len(active_inactive_groups), len(labels))\n",
    "print(len(belong_to_groups), len(zbg_classifier_groups), len(active_inactive_groups), len(labels))"
   ]
  },
  {
   "cell_type": "markdown",
   "metadata": {},
   "source": [
    "__Preprocessing the groups labels__"
   ]
  },
  {
   "cell_type": "code",
   "execution_count": 69,
   "metadata": {},
   "outputs": [],
   "source": [
    "import scipy.stats as ss\n",
    "# Create the labels and the integer encoded array for the groups,\n",
    "# as they're categorical\n",
    "zgb_labels_groups, zgb_groups = Faerun.create_categories(zbg_classifier_groups)\n",
    "activity_labels_groups, activity_groups = Faerun.create_categories(active_inactive_groups)\n",
    "belong_labels_groups, belong_groups = Faerun.create_categories(belong_to_groups)\n",
    "#scale IC50\n",
    "# ic50_ranked = ss.rankdata(np.array(ic50) / max(ic50)) / len(ic50)\n",
    "mw_ranked = ss.rankdata(np.array(molecular_weight) / max(molecular_weight)) / len(molecular_weight)"
   ]
  },
  {
   "cell_type": "code",
   "execution_count": 70,
   "metadata": {},
   "outputs": [
    {
     "data": {
      "text/plain": [
       "[(0, 'Testing data'), (1, 'Training data'), (2, 'Validation data')]"
      ]
     },
     "execution_count": 70,
     "metadata": {},
     "output_type": "execute_result"
    }
   ],
   "source": [
    "belong_labels_groups"
   ]
  },
  {
   "cell_type": "code",
   "execution_count": 71,
   "metadata": {},
   "outputs": [],
   "source": [
    "bits = 1024\n",
    "k = 300\n",
    "enc = tmap.Minhash(bits)\n",
    "lf = tmap.LSHForest(bits, 128)\n",
    "lf.batch_add(enc.batch_from_binary_array(fps))\n",
    "lf.index()\n",
    "cfg = tmap.LayoutConfiguration()\n",
    "cfg.k = k\n",
    "cfg.sl_repeats = 2\n",
    "cfg.mmm_repeats = 2\n",
    "cfg.node_size = 2\n",
    "x, y, s, t, _ = tmap.layout_from_lsh_forest(lf, config=cfg)"
   ]
  },
  {
   "cell_type": "code",
   "execution_count": 72,
   "metadata": {},
   "outputs": [
    {
     "data": {
      "text/plain": [
       "2809"
      ]
     },
     "execution_count": 72,
     "metadata": {},
     "output_type": "execute_result"
    }
   ],
   "source": [
    "len(x)"
   ]
  },
  {
   "cell_type": "code",
   "execution_count": 73,
   "metadata": {},
   "outputs": [
    {
     "data": {
      "text/html": [
       "\n",
       "        <iframe\n",
       "            width=\"100%\"\n",
       "            height=\"500\"\n",
       "            src=\"./../../results/tmap/ecfp4_tmap_hdac2.html.html\"\n",
       "            frameborder=\"0\"\n",
       "            allowfullscreen\n",
       "            \n",
       "        ></iframe>\n",
       "        "
      ],
      "text/plain": [
       "<IPython.lib.display.IFrame at 0x7fded4fdf070>"
      ]
     },
     "metadata": {},
     "output_type": "display_data"
    },
    {
     "data": {
      "text/html": [
       "<a href='./../../results/tmap/ecfp4_tmap_hdac2.html.html' target='_blank'>./../../results/tmap/ecfp4_tmap_hdac2.html.html</a><br>"
      ],
      "text/plain": [
       "/home/tuele/Code/qsar_ml_find_hdac2_inhibitor/results/tmap/ecfp4_tmap_hdac2.html.html"
      ]
     },
     "metadata": {},
     "output_type": "display_data"
    }
   ],
   "source": [
    "faerun = Faerun(view=\"front\", clear_color=\"#e3d8c3\", coords=False)\n",
    "custom_cmap = ListedColormap(\n",
    "    [\"#1f77b4\", \"#ff7f0e\", \"#2ca02c\", \"#d62728\", \"#9467bd\", \n",
    "     \"#8c564b\", \"#e377c2\", \"#7f7f7f\", \"#bcbd22\", \"#17becf\", \n",
    "     \"#000080\", \"#fcec03\"],\n",
    "    name=\"custom\",\n",
    ")\n",
    "faerun.add_scatter(\n",
    "        \"chembl\",\n",
    "        {\"x\": x, \n",
    "         \"y\": y, \n",
    "         \"c\": [zgb_groups, belong_groups, activity_groups, mw_ranked], \n",
    "         \"labels\": labels},\n",
    "        colormap=[custom_cmap, custom_cmap, custom_cmap, \"viridis\"],\n",
    "        point_scale=4.5,\n",
    "        max_point_size=10,\n",
    "        has_legend=True,\n",
    "        categorical=[True, True, True, False],\n",
    "        shader=\"smoothCircle\",\n",
    "        legend_labels=[zgb_labels_groups, belong_labels_groups, activity_labels_groups],\n",
    "        selected_labels=[\"SMILES\", \"PubChem CID\", \"Name\"],\n",
    "        series_title=[\"ZGB Classifier group\", \"Dataset label group\", \"Activity label group\", \"Molecular Weight\"],\n",
    "        max_legend_label=[None, None, None, str(round(max(molecular_weight)))],\n",
    "        min_legend_label=[None, None, None, str(round(min(molecular_weight)))],\n",
    "        title_index=2,\n",
    "        legend_title=\"\"\n",
    "    )\n",
    "faerun.add_tree(\n",
    "    \"pubchem_tree\", {\"from\": s, \"to\": t}, point_helper=\"chembl\", color=\"#222222\"\n",
    ")\n",
    "# You may see a different Tmap from what us generated since the index of the data-points are randomly generated depending on the runtime environment.\n",
    "# Howerver, the way your tmap branches connected will be similar to ours.\n",
    "faerun.plot(file_name=\"../../results/tmap/ecfp4_tmap_hdac2.html\", template=\"smiles\")"
   ]
  },
  {
   "cell_type": "code",
   "execution_count": 74,
   "metadata": {},
   "outputs": [],
   "source": [
    "# faerun = Faerun(view=\"front\", clear_color=\"#e3d8c3\", coords=False)\n",
    "# custom_cmap = ListedColormap(\n",
    "#     [\"#1f77b4\", \"#ff7f0e\", \"#2ca02c\", \"#d62728\", \"#9467bd\", \n",
    "#      \"#8c564b\", \"#e377c2\", \"#7f7f7f\", \"#bcbd22\", \"#17becf\", \n",
    "#      \"#000080\", \"#fcec03\"],\n",
    "#     name=\"custom\",\n",
    "# )\n",
    "# faerun.add_scatter(\n",
    "#         \"chembl\",\n",
    "#         {\"x\": x, \n",
    "#          \"y\": y, \n",
    "#          \"c\": [zgb_groups, belong_groups, activity_groups, ic50_ranked, mw_ranked], \n",
    "#          \"labels\": labels},\n",
    "#         colormap=[custom_cmap, custom_cmap, custom_cmap, \"viridis\", \"viridis\"],\n",
    "#         point_scale=4.5,\n",
    "#         max_point_size=10,\n",
    "#         has_legend=True,\n",
    "#         categorical=[True, True, True, False, False],\n",
    "#         shader=\"smoothCircle\",\n",
    "#         legend_labels=[zgb_labels_groups, belong_labels_groups, activity_labels_groups],\n",
    "#         selected_labels=[\"SMILES\", \"PubChem CID\", \"Name\"],\n",
    "#         series_title=[\"ZGB Classifier group\", \"Dataset label group\", \"Activity label group\", \"IC50 (nM)\", \"Molecular Weight\"],\n",
    "#         max_legend_label=[None, None, None, str(round(max(ic50))), str(round(max(molecular_weight)))],\n",
    "#         min_legend_label=[None, None, None, str(round(min(ic50))), str(round(min(molecular_weight)))],\n",
    "#         title_index=2,\n",
    "#         legend_title=\"\"\n",
    "#     )\n",
    "# faerun.add_tree(\n",
    "#     \"pubchem_tree\", {\"from\": s, \"to\": t}, point_helper=\"chembl\", color=\"#222222\"\n",
    "# )\n",
    "# # You may see a different Tmap from what us generated since the index of the data-points are randomly generated depending on the runtime environment.\n",
    "# # Howerver, the way your tmap branches connected will be similar to ours.\n",
    "# faerun.plot(file_name=\"../../results/tmap/ecfp4_tmap_hdac2.html\", template=\"smiles\")"
   ]
  }
 ],
 "metadata": {
  "kernelspec": {
   "display_name": "my-rdkit-env",
   "language": "python",
   "name": "python3"
  },
  "language_info": {
   "codemirror_mode": {
    "name": "ipython",
    "version": 3
   },
   "file_extension": ".py",
   "mimetype": "text/x-python",
   "name": "python",
   "nbconvert_exporter": "python",
   "pygments_lexer": "ipython3",
   "version": "3.9.18"
  },
  "orig_nbformat": 4
 },
 "nbformat": 4,
 "nbformat_minor": 2
}
