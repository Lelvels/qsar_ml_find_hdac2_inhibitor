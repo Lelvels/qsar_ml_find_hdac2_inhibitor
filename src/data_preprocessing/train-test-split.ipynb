{
 "cells": [
  {
   "cell_type": "code",
   "execution_count": 18,
   "metadata": {},
   "outputs": [],
   "source": [
    "from rdkit.Chem import AllChem\n",
    "from rdkit import Chem\n",
    "from rdkit.Chem import Descriptors, MACCSkeys\n",
    "from rdkit.ML.Descriptors import MoleculeDescriptors\n",
    "\n",
    "import pandas as pd\n",
    "import numpy as np\n",
    "import matplotlib.pyplot as plt\n",
    "from tabulate import tabulate\n",
    "\n",
    "from sklearn import preprocessing\n",
    "from sklearn.model_selection import cross_val_predict\n",
    "from sklearn.metrics import accuracy_score"
   ]
  },
  {
   "attachments": {},
   "cell_type": "markdown",
   "metadata": {},
   "source": [
    "# Read the data"
   ]
  },
  {
   "cell_type": "code",
   "execution_count": 19,
   "metadata": {},
   "outputs": [
    {
     "data": {
      "text/plain": [
       "2801"
      ]
     },
     "execution_count": 19,
     "metadata": {},
     "output_type": "execute_result"
    }
   ],
   "source": [
    "all_data_path = \"../../data_for_modeling/filter_data/v3/HDAC2_all_data_filtered_p2.xlsx\"\n",
    "dataset = pd.read_excel(all_data_path, sheet_name='filter_data')\n",
    "dataset_length = len(dataset)\n",
    "dataset_length"
   ]
  },
  {
   "cell_type": "code",
   "execution_count": 20,
   "metadata": {},
   "outputs": [
    {
     "data": {
      "text/html": [
       "<div>\n",
       "<style scoped>\n",
       "    .dataframe tbody tr th:only-of-type {\n",
       "        vertical-align: middle;\n",
       "    }\n",
       "\n",
       "    .dataframe tbody tr th {\n",
       "        vertical-align: top;\n",
       "    }\n",
       "\n",
       "    .dataframe thead th {\n",
       "        text-align: right;\n",
       "    }\n",
       "</style>\n",
       "<table border=\"1\" class=\"dataframe\">\n",
       "  <thead>\n",
       "    <tr style=\"text-align: right;\">\n",
       "      <th></th>\n",
       "      <th>CID</th>\n",
       "      <th>SMILES</th>\n",
       "      <th>AVG_IC50_uM</th>\n",
       "      <th>FIRST_LABEL</th>\n",
       "      <th>FINAL_LABEL</th>\n",
       "      <th>DUPLICATE_COUNTS</th>\n",
       "      <th>Original_CID</th>\n",
       "      <th>ZBG Classified</th>\n",
       "    </tr>\n",
       "  </thead>\n",
       "  <tbody>\n",
       "    <tr>\n",
       "      <th>0</th>\n",
       "      <td>264</td>\n",
       "      <td>CCCC(=O)O</td>\n",
       "      <td>206000.000000</td>\n",
       "      <td>Inactive</td>\n",
       "      <td>Inactive</td>\n",
       "      <td>1</td>\n",
       "      <td>264</td>\n",
       "      <td>3</td>\n",
       "    </tr>\n",
       "    <tr>\n",
       "      <th>1</th>\n",
       "      <td>2746</td>\n",
       "      <td>CC(=O)Nc1ccc(C(=O)Nc2ccccc2N)cc1</td>\n",
       "      <td>1495.875000</td>\n",
       "      <td>Inactive</td>\n",
       "      <td>Inactive</td>\n",
       "      <td>1</td>\n",
       "      <td>2746</td>\n",
       "      <td>4</td>\n",
       "    </tr>\n",
       "    <tr>\n",
       "      <th>2</th>\n",
       "      <td>2788</td>\n",
       "      <td>Oc1c(I)cc(Cl)c2cccnc12</td>\n",
       "      <td>105800.000000</td>\n",
       "      <td>Inactive</td>\n",
       "      <td>Inactive</td>\n",
       "      <td>1</td>\n",
       "      <td>2788</td>\n",
       "      <td>21</td>\n",
       "    </tr>\n",
       "    <tr>\n",
       "      <th>3</th>\n",
       "      <td>3121</td>\n",
       "      <td>CCCC(CCC)C(=O)O</td>\n",
       "      <td>288246.666667</td>\n",
       "      <td>Inactive</td>\n",
       "      <td>Inactive</td>\n",
       "      <td>1</td>\n",
       "      <td>3121</td>\n",
       "      <td>3</td>\n",
       "    </tr>\n",
       "    <tr>\n",
       "      <th>4</th>\n",
       "      <td>3994</td>\n",
       "      <td>CN(C)c1ccc(cc1)C(=O)NCCCCCCC(=O)NO</td>\n",
       "      <td>20.700000</td>\n",
       "      <td>Active</td>\n",
       "      <td>Active</td>\n",
       "      <td>1</td>\n",
       "      <td>3994</td>\n",
       "      <td>1</td>\n",
       "    </tr>\n",
       "  </tbody>\n",
       "</table>\n",
       "</div>"
      ],
      "text/plain": [
       "    CID                              SMILES    AVG_IC50_uM FIRST_LABEL  \\\n",
       "0   264                           CCCC(=O)O  206000.000000    Inactive   \n",
       "1  2746    CC(=O)Nc1ccc(C(=O)Nc2ccccc2N)cc1    1495.875000    Inactive   \n",
       "2  2788              Oc1c(I)cc(Cl)c2cccnc12  105800.000000    Inactive   \n",
       "3  3121                     CCCC(CCC)C(=O)O  288246.666667    Inactive   \n",
       "4  3994  CN(C)c1ccc(cc1)C(=O)NCCCCCCC(=O)NO      20.700000      Active   \n",
       "\n",
       "  FINAL_LABEL  DUPLICATE_COUNTS Original_CID  ZBG Classified  \n",
       "0    Inactive                 1          264               3  \n",
       "1    Inactive                 1         2746               4  \n",
       "2    Inactive                 1         2788              21  \n",
       "3    Inactive                 1         3121               3  \n",
       "4      Active                 1         3994               1  "
      ]
     },
     "execution_count": 20,
     "metadata": {},
     "output_type": "execute_result"
    }
   ],
   "source": [
    "dataset.head()"
   ]
  },
  {
   "attachments": {},
   "cell_type": "markdown",
   "metadata": {},
   "source": [
    "# 1. Profile of the data"
   ]
  },
  {
   "cell_type": "code",
   "execution_count": 21,
   "metadata": {},
   "outputs": [],
   "source": [
    "def check_activity_distribution(dataset, col_name):\n",
    "    active_rows = dataset.loc[dataset[col_name] == \"Active\"]\n",
    "    inactive_rows = dataset.loc[dataset[col_name] == \"Inactive\"]\n",
    "\n",
    "    dataset_length = len(dataset)\n",
    "\n",
    "    print(\"Total dataset\")\n",
    "    table = [['', 'Active', 'Inactive'], \n",
    "            ['Number', len(active_rows), len(inactive_rows)],\n",
    "            ['Percentage (%)', len(active_rows)/dataset_length*100, len(inactive_rows)/dataset_length*100]]\n",
    "    print(tabulate(table, headers='firstrow', tablefmt='fancy_grid'))"
   ]
  },
  {
   "attachments": {},
   "cell_type": "markdown",
   "metadata": {},
   "source": [
    "__Train on the final label, not the first label__"
   ]
  },
  {
   "cell_type": "code",
   "execution_count": 22,
   "metadata": {},
   "outputs": [
    {
     "name": "stdout",
     "output_type": "stream",
     "text": [
      "Total dataset\n",
      "╒════════════════╤══════════╤════════════╕\n",
      "│                │   Active │   Inactive │\n",
      "╞════════════════╪══════════╪════════════╡\n",
      "│ Number         │ 899      │  1902      │\n",
      "├────────────────┼──────────┼────────────┤\n",
      "│ Percentage (%) │  32.0957 │    67.9043 │\n",
      "╘════════════════╧══════════╧════════════╛\n"
     ]
    }
   ],
   "source": [
    "check_activity_distribution(dataset=dataset, col_name='FINAL_LABEL')"
   ]
  },
  {
   "attachments": {},
   "cell_type": "markdown",
   "metadata": {},
   "source": [
    "# 2. Train test split"
   ]
  },
  {
   "cell_type": "code",
   "execution_count": 23,
   "metadata": {},
   "outputs": [
    {
     "name": "stdout",
     "output_type": "stream",
     "text": [
      "2801\n"
     ]
    }
   ],
   "source": [
    "dataset_c = dataset.copy()\n",
    "print(len(dataset_c))"
   ]
  },
  {
   "cell_type": "code",
   "execution_count": null,
   "metadata": {},
   "outputs": [],
   "source": [
    "from sklearn.model_selection import train_test_split\n",
    "#Define informations\n",
    "train_test_data_path = \"../../data_for_modeling/train_test_data\"\n",
    "train_test_file_name = \"HDAC2_train_test_data.xlsx\"\n",
    "validation_size = 0.1 #10% of 100% total data\n",
    "test_size = 0.2 #20% of 90% total data\n",
    "random_state = 42\n",
    "#Create data data\n",
    "train_test_data = dataset_c.drop(['FIRST_LABEL', 'DUPLICATE_COUNTS', 'Original_CID'], axis = 1)\n",
    "train_test_dataset, validation_dataset = train_test_split(train_test_data, test_size=validation_size, random_state=random_state)\n",
    "train_dataset, test_dataset = train_test_split(train_test_data, test_size=test_size, random_state=random_state)"
   ]
  },
  {
   "cell_type": "code",
   "execution_count": 69,
   "metadata": {},
   "outputs": [
    {
     "data": {
      "text/html": [
       "<div>\n",
       "<style scoped>\n",
       "    .dataframe tbody tr th:only-of-type {\n",
       "        vertical-align: middle;\n",
       "    }\n",
       "\n",
       "    .dataframe tbody tr th {\n",
       "        vertical-align: top;\n",
       "    }\n",
       "\n",
       "    .dataframe thead th {\n",
       "        text-align: right;\n",
       "    }\n",
       "</style>\n",
       "<table border=\"1\" class=\"dataframe\">\n",
       "  <thead>\n",
       "    <tr style=\"text-align: right;\">\n",
       "      <th></th>\n",
       "      <th>CID</th>\n",
       "      <th>SMILES</th>\n",
       "      <th>AVG_IC50_uM</th>\n",
       "      <th>FINAL_LABEL</th>\n",
       "      <th>ZBG Classified</th>\n",
       "    </tr>\n",
       "  </thead>\n",
       "  <tbody>\n",
       "    <tr>\n",
       "      <th>0</th>\n",
       "      <td>264</td>\n",
       "      <td>CCCC(=O)O</td>\n",
       "      <td>206000.000000</td>\n",
       "      <td>Inactive</td>\n",
       "      <td>3</td>\n",
       "    </tr>\n",
       "    <tr>\n",
       "      <th>1</th>\n",
       "      <td>2746</td>\n",
       "      <td>CC(=O)Nc1ccc(C(=O)Nc2ccccc2N)cc1</td>\n",
       "      <td>1495.875000</td>\n",
       "      <td>Inactive</td>\n",
       "      <td>4</td>\n",
       "    </tr>\n",
       "    <tr>\n",
       "      <th>2</th>\n",
       "      <td>2788</td>\n",
       "      <td>Oc1c(I)cc(Cl)c2cccnc12</td>\n",
       "      <td>105800.000000</td>\n",
       "      <td>Inactive</td>\n",
       "      <td>21</td>\n",
       "    </tr>\n",
       "    <tr>\n",
       "      <th>3</th>\n",
       "      <td>3121</td>\n",
       "      <td>CCCC(CCC)C(=O)O</td>\n",
       "      <td>288246.666667</td>\n",
       "      <td>Inactive</td>\n",
       "      <td>3</td>\n",
       "    </tr>\n",
       "    <tr>\n",
       "      <th>4</th>\n",
       "      <td>3994</td>\n",
       "      <td>CN(C)c1ccc(cc1)C(=O)NCCCCCCC(=O)NO</td>\n",
       "      <td>20.700000</td>\n",
       "      <td>Active</td>\n",
       "      <td>1</td>\n",
       "    </tr>\n",
       "  </tbody>\n",
       "</table>\n",
       "</div>"
      ],
      "text/plain": [
       "    CID                              SMILES    AVG_IC50_uM FINAL_LABEL  \\\n",
       "0   264                           CCCC(=O)O  206000.000000    Inactive   \n",
       "1  2746    CC(=O)Nc1ccc(C(=O)Nc2ccccc2N)cc1    1495.875000    Inactive   \n",
       "2  2788              Oc1c(I)cc(Cl)c2cccnc12  105800.000000    Inactive   \n",
       "3  3121                     CCCC(CCC)C(=O)O  288246.666667    Inactive   \n",
       "4  3994  CN(C)c1ccc(cc1)C(=O)NCCCCCCC(=O)NO      20.700000      Active   \n",
       "\n",
       "   ZBG Classified  \n",
       "0               3  \n",
       "1               4  \n",
       "2              21  \n",
       "3               3  \n",
       "4               1  "
      ]
     },
     "execution_count": 69,
     "metadata": {},
     "output_type": "execute_result"
    }
   ],
   "source": [
    "train_dataset.head()"
   ]
  },
  {
   "cell_type": "code",
   "execution_count": 70,
   "metadata": {},
   "outputs": [
    {
     "name": "stdout",
     "output_type": "stream",
     "text": [
      "Unclean data size: 2801\n",
      "Unclean train dataset: 2016\n",
      "Total dataset\n",
      "╒════════════════╤══════════╤════════════╕\n",
      "│                │   Active │   Inactive │\n",
      "╞════════════════╪══════════╪════════════╡\n",
      "│ Number         │ 649      │  1367      │\n",
      "├────────────────┼──────────┼────────────┤\n",
      "│ Percentage (%) │  32.1925 │    67.8075 │\n",
      "╘════════════════╧══════════╧════════════╛\n",
      "\n",
      "Unclean test dataset: 504\n",
      "Total dataset\n",
      "╒════════════════╤══════════╤════════════╕\n",
      "│                │   Active │   Inactive │\n",
      "╞════════════════╪══════════╪════════════╡\n",
      "│ Number         │ 159      │   345      │\n",
      "├────────────────┼──────────┼────────────┤\n",
      "│ Percentage (%) │  31.5476 │    68.4524 │\n",
      "╘════════════════╧══════════╧════════════╛\n",
      "\n",
      "Unclean external dataset: 281\n",
      "Total dataset\n",
      "╒════════════════╤══════════╤════════════╕\n",
      "│                │   Active │   Inactive │\n",
      "╞════════════════╪══════════╪════════════╡\n",
      "│ Number         │  91      │   190      │\n",
      "├────────────────┼──────────┼────────────┤\n",
      "│ Percentage (%) │  32.3843 │    67.6157 │\n",
      "╘════════════════╧══════════╧════════════╛\n",
      "\n"
     ]
    }
   ],
   "source": [
    "print(\"Unclean data size: \" + str(len(train_test_data)))\n",
    "print(\"Unclean train dataset: \" + str(len(train_dataset)))\n",
    "check_activity_distribution(train_dataset, 'FINAL_LABEL')\n",
    "print()\n",
    "print(\"Unclean test dataset: \" + str(len(test_dataset)))\n",
    "check_activity_distribution(test_dataset, 'FINAL_LABEL')\n",
    "print()\n",
    "print(\"Unclean external dataset: \" + str(len(validation_dataset)))\n",
    "check_activity_distribution(validation_dataset, 'FINAL_LABEL')\n",
    "print()"
   ]
  },
  {
   "cell_type": "code",
   "execution_count": null,
   "metadata": {},
   "outputs": [],
   "source": [
    "# Write to file\n",
    "with pd.ExcelWriter(train_test_data_path+train_test_file_name, engine='openpyxl') as writer:\n",
    "    train_dataset.to_excel(writer, sheet_name='train_dataset', index=False)\n",
    "    test_dataset.to_excel(writer, sheet_name='test_dataset', index=False)\n",
    "    validation_dataset.to_excel(writer, sheet_name='validation_dataset', index=False)"
   ]
  }
 ],
 "metadata": {
  "kernelspec": {
   "display_name": "Python 3",
   "language": "python",
   "name": "python3"
  },
  "language_info": {
   "codemirror_mode": {
    "name": "ipython",
    "version": 3
   },
   "file_extension": ".py",
   "mimetype": "text/x-python",
   "name": "python",
   "nbconvert_exporter": "python",
   "pygments_lexer": "ipython3",
   "version": "3.12.0"
  },
  "orig_nbformat": 4
 },
 "nbformat": 4,
 "nbformat_minor": 2
}
