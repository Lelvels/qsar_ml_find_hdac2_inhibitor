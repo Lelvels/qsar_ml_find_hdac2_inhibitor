{
 "cells": [
  {
   "cell_type": "code",
   "execution_count": 2,
   "metadata": {},
   "outputs": [],
   "source": [
    "from rdkit.Chem import AllChem\n",
    "from rdkit import Chem\n",
    "from rdkit.Chem import Descriptors, MACCSkeys\n",
    "from rdkit.ML.Descriptors import MoleculeDescriptors\n",
    "\n",
    "import pandas as pd\n",
    "import numpy as np\n",
    "import matplotlib.pyplot as plt\n",
    "from tabulate import tabulate\n",
    "\n",
    "from sklearn import preprocessing"
   ]
  },
  {
   "attachments": {},
   "cell_type": "markdown",
   "metadata": {},
   "source": [
    "# Read the data"
   ]
  },
  {
   "cell_type": "code",
   "execution_count": 4,
   "metadata": {},
   "outputs": [
    {
     "data": {
      "text/plain": [
       "2809"
      ]
     },
     "execution_count": 4,
     "metadata": {},
     "output_type": "execute_result"
    }
   ],
   "source": [
    "all_data_path = \"../../data_for_modeling/preprocessed_data/HDAC2_preprocessed_data.xlsx\"\n",
    "dataset = pd.read_excel(all_data_path, sheet_name='Sheet1')\n",
    "dataset_length = len(dataset)\n",
    "dataset_length"
   ]
  },
  {
   "cell_type": "code",
   "execution_count": 5,
   "metadata": {},
   "outputs": [
    {
     "data": {
      "text/html": [
       "<div>\n",
       "<style scoped>\n",
       "    .dataframe tbody tr th:only-of-type {\n",
       "        vertical-align: middle;\n",
       "    }\n",
       "\n",
       "    .dataframe tbody tr th {\n",
       "        vertical-align: top;\n",
       "    }\n",
       "\n",
       "    .dataframe thead th {\n",
       "        text-align: right;\n",
       "    }\n",
       "</style>\n",
       "<table border=\"1\" class=\"dataframe\">\n",
       "  <thead>\n",
       "    <tr style=\"text-align: right;\">\n",
       "      <th></th>\n",
       "      <th>CID</th>\n",
       "      <th>SMILES</th>\n",
       "      <th>Categories</th>\n",
       "      <th>ZBG Classified</th>\n",
       "      <th>Unnamed: 4</th>\n",
       "      <th>Unnamed: 5</th>\n",
       "      <th>Unnamed: 6</th>\n",
       "    </tr>\n",
       "  </thead>\n",
       "  <tbody>\n",
       "    <tr>\n",
       "      <th>0</th>\n",
       "      <td>6918878</td>\n",
       "      <td>CC(=O)Nc1ccc(C(=O)Nc2cc(-c3cccs3)ccc2N)cc1</td>\n",
       "      <td>active</td>\n",
       "      <td>4</td>\n",
       "      <td>15.0</td>\n",
       "      <td>20.0</td>\n",
       "      <td>NaN</td>\n",
       "    </tr>\n",
       "    <tr>\n",
       "      <th>1</th>\n",
       "      <td>76284329</td>\n",
       "      <td>Nc1ccc(-c2cccs2)cc1NC(=O)c1cnc2c(C3CC3)c(N3CCN...</td>\n",
       "      <td>active</td>\n",
       "      <td>4</td>\n",
       "      <td>15.0</td>\n",
       "      <td>20.0</td>\n",
       "      <td>NaN</td>\n",
       "    </tr>\n",
       "    <tr>\n",
       "      <th>2</th>\n",
       "      <td>118721861</td>\n",
       "      <td>Cc1cccc(NC(=O)[C@H](CCCCCS)NC(=O)[C@H]2CCC(=O)...</td>\n",
       "      <td>active</td>\n",
       "      <td>4</td>\n",
       "      <td>9.0</td>\n",
       "      <td>15.0</td>\n",
       "      <td>NaN</td>\n",
       "    </tr>\n",
       "    <tr>\n",
       "      <th>3</th>\n",
       "      <td>165430653</td>\n",
       "      <td>CN(C)c1ccc(C(=O)N(CC(=O)NCc2ccccc2)Cc2ccc(C(=O...</td>\n",
       "      <td>active</td>\n",
       "      <td>1</td>\n",
       "      <td>15.0</td>\n",
       "      <td>NaN</td>\n",
       "      <td>NaN</td>\n",
       "    </tr>\n",
       "    <tr>\n",
       "      <th>4</th>\n",
       "      <td>42601485</td>\n",
       "      <td>CCOP(=O)(CNCc1ccc(C(=O)Nc2cc(-c3cccs3)ccc2N)cc...</td>\n",
       "      <td>active</td>\n",
       "      <td>4</td>\n",
       "      <td>15.0</td>\n",
       "      <td>20.0</td>\n",
       "      <td>NaN</td>\n",
       "    </tr>\n",
       "  </tbody>\n",
       "</table>\n",
       "</div>"
      ],
      "text/plain": [
       "         CID                                             SMILES Categories  \\\n",
       "0    6918878         CC(=O)Nc1ccc(C(=O)Nc2cc(-c3cccs3)ccc2N)cc1     active   \n",
       "1   76284329  Nc1ccc(-c2cccs2)cc1NC(=O)c1cnc2c(C3CC3)c(N3CCN...     active   \n",
       "2  118721861  Cc1cccc(NC(=O)[C@H](CCCCCS)NC(=O)[C@H]2CCC(=O)...     active   \n",
       "3  165430653  CN(C)c1ccc(C(=O)N(CC(=O)NCc2ccccc2)Cc2ccc(C(=O...     active   \n",
       "4   42601485  CCOP(=O)(CNCc1ccc(C(=O)Nc2cc(-c3cccs3)ccc2N)cc...     active   \n",
       "\n",
       "   ZBG Classified  Unnamed: 4  Unnamed: 5  Unnamed: 6  \n",
       "0               4        15.0        20.0         NaN  \n",
       "1               4        15.0        20.0         NaN  \n",
       "2               4         9.0        15.0         NaN  \n",
       "3               1        15.0         NaN         NaN  \n",
       "4               4        15.0        20.0         NaN  "
      ]
     },
     "execution_count": 5,
     "metadata": {},
     "output_type": "execute_result"
    }
   ],
   "source": [
    "dataset.head()"
   ]
  },
  {
   "attachments": {},
   "cell_type": "markdown",
   "metadata": {},
   "source": [
    "# 1. Profile of the data"
   ]
  },
  {
   "cell_type": "code",
   "execution_count": 18,
   "metadata": {},
   "outputs": [],
   "source": [
    "def check_activity_distribution(dataset, col_name):\n",
    "    active_rows = dataset.loc[dataset[col_name] == \"active\"]\n",
    "    inactive_rows = dataset.loc[dataset[col_name] == \"inactive\"]\n",
    "\n",
    "    dataset_length = len(dataset)\n",
    "\n",
    "    print(f\"Total dataset: {dataset_length}\")\n",
    "    table = [['', 'active', 'inactive'], \n",
    "            ['Number', len(active_rows), len(inactive_rows)],\n",
    "            ['Percentage (%)', len(active_rows)/dataset_length*100, len(inactive_rows)/dataset_length*100]]\n",
    "    print(tabulate(table, headers='firstrow', tablefmt='fancy_grid'))"
   ]
  },
  {
   "attachments": {},
   "cell_type": "markdown",
   "metadata": {},
   "source": [
    "__Train on the final label, not the first label__"
   ]
  },
  {
   "cell_type": "code",
   "execution_count": 11,
   "metadata": {},
   "outputs": [
    {
     "name": "stdout",
     "output_type": "stream",
     "text": [
      "Total dataset\n",
      "╒════════════════╤══════════╤════════════╕\n",
      "│                │   active │   inactive │\n",
      "╞════════════════╪══════════╪════════════╡\n",
      "│ Number         │ 897      │  1913      │\n",
      "├────────────────┼──────────┼────────────┤\n",
      "│ Percentage (%) │  31.9217 │    68.0783 │\n",
      "╘════════════════╧══════════╧════════════╛\n"
     ]
    }
   ],
   "source": [
    "check_activity_distribution(dataset=dataset, col_name='Categories')"
   ]
  },
  {
   "attachments": {},
   "cell_type": "markdown",
   "metadata": {},
   "source": [
    "# 2. Train test split"
   ]
  },
  {
   "cell_type": "code",
   "execution_count": 12,
   "metadata": {},
   "outputs": [
    {
     "name": "stdout",
     "output_type": "stream",
     "text": [
      "2810\n"
     ]
    }
   ],
   "source": [
    "dataset_c = dataset.copy()\n",
    "print(len(dataset_c))"
   ]
  },
  {
   "cell_type": "code",
   "execution_count": 23,
   "metadata": {},
   "outputs": [
    {
     "data": {
      "text/plain": [
       "['active', 'inactive']"
      ]
     },
     "execution_count": 23,
     "metadata": {},
     "output_type": "execute_result"
    }
   ],
   "source": [
    "le = preprocessing.LabelEncoder()\n",
    "y = np.array(dataset['Categories'])\n",
    "y = le.fit_transform(y)\n",
    "list(le.classes_)"
   ]
  },
  {
   "cell_type": "code",
   "execution_count": 25,
   "metadata": {},
   "outputs": [
    {
     "data": {
      "text/plain": [
       "array([0, 1])"
      ]
     },
     "execution_count": 25,
     "metadata": {},
     "output_type": "execute_result"
    }
   ],
   "source": [
    "le.transform(le.classes_)"
   ]
  },
  {
   "cell_type": "code",
   "execution_count": 24,
   "metadata": {},
   "outputs": [
    {
     "data": {
      "text/plain": [
       "array([0, 0, 0, ..., 1, 0, 0])"
      ]
     },
     "execution_count": 24,
     "metadata": {},
     "output_type": "execute_result"
    }
   ],
   "source": [
    "y"
   ]
  },
  {
   "cell_type": "code",
   "execution_count": 29,
   "metadata": {},
   "outputs": [],
   "source": [
    "from sklearn.model_selection import train_test_split\n",
    "#Create data data\n",
    "X_train, X_temp, y_train, y_temp = train_test_split(dataset_c.index, y, test_size=0.3, random_state=42)\n",
    "X_test, X_val, y_test, y_val = train_test_split(X_temp, y_temp, test_size=0.5, random_state=42)"
   ]
  },
  {
   "cell_type": "code",
   "execution_count": 32,
   "metadata": {},
   "outputs": [],
   "source": [
    "train_dataset = dataset_c.iloc[X_train]\n",
    "test_dataset = dataset_c.iloc[X_test]\n",
    "validation_dataset = dataset_c.iloc[X_val]"
   ]
  },
  {
   "cell_type": "code",
   "execution_count": null,
   "metadata": {},
   "outputs": [],
   "source": [
    "check_activity_distribution(train_dataset, \"Categories\")\n",
    "check_activity_distribution(test_dataset, \"Categories\")\n",
    "check_activity_distribution(validation_dataset, \"Categories\")"
   ]
  },
  {
   "cell_type": "code",
   "execution_count": 35,
   "metadata": {},
   "outputs": [],
   "source": [
    "# Write to file\n",
    "with pd.ExcelWriter(\"../../data_for_modeling/train_test_data/new_HDAC2_train_test_data.xlsx\", engine='openpyxl') as writer:\n",
    "    train_dataset.to_excel(writer, sheet_name='train_dataset', index=False)\n",
    "    test_dataset.to_excel(writer, sheet_name='test_dataset', index=False)\n",
    "    validation_dataset.to_excel(writer, sheet_name='validation_dataset', index=False)"
   ]
  }
 ],
 "metadata": {
  "kernelspec": {
   "display_name": "Python 3",
   "language": "python",
   "name": "python3"
  },
  "language_info": {
   "codemirror_mode": {
    "name": "ipython",
    "version": 3
   },
   "file_extension": ".py",
   "mimetype": "text/x-python",
   "name": "python",
   "nbconvert_exporter": "python",
   "pygments_lexer": "ipython3",
   "version": "3.12.0"
  },
  "orig_nbformat": 4
 },
 "nbformat": 4,
 "nbformat_minor": 2
}
