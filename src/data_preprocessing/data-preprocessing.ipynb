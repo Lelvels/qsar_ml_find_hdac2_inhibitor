{
 "cells": [
  {
   "cell_type": "markdown",
   "metadata": {},
   "source": [
    "__Data preprocessing of the raw train-test data, to remove any duplicates, label conflicts, or \n",
    "IC50 value errors__"
   ]
  },
  {
   "cell_type": "code",
   "execution_count": 1,
   "metadata": {},
   "outputs": [],
   "source": [
    "from rdkit.Chem import AllChem\n",
    "from rdkit import Chem\n",
    "from rdkit.Chem import Descriptors, MACCSkeys\n",
    "from rdkit.ML.Descriptors import MoleculeDescriptors\n",
    "\n",
    "import pandas as pd\n",
    "import numpy as np\n",
    "import matplotlib.pyplot as plt\n",
    "import seaborn as sns\n",
    "from tabulate import tabulate"
   ]
  },
  {
   "attachments": {},
   "cell_type": "markdown",
   "metadata": {},
   "source": [
    "# Starting data preprocessing"
   ]
  },
  {
   "attachments": {},
   "cell_type": "markdown",
   "metadata": {},
   "source": [
    "## 1. Read the data"
   ]
  },
  {
   "cell_type": "code",
   "execution_count": 2,
   "metadata": {},
   "outputs": [],
   "source": [
    "all_data_path = \"../../data_for_modeling/raw_data/new_HDAC2_raw_data.xlsx\"\n",
    "dataset = pd.read_excel(all_data_path, sheet_name='original_data')"
   ]
  },
  {
   "cell_type": "code",
   "execution_count": 3,
   "metadata": {},
   "outputs": [
    {
     "name": "stdout",
     "output_type": "stream",
     "text": [
      "2814\n"
     ]
    },
    {
     "data": {
      "text/html": [
       "<div>\n",
       "<style scoped>\n",
       "    .dataframe tbody tr th:only-of-type {\n",
       "        vertical-align: middle;\n",
       "    }\n",
       "\n",
       "    .dataframe tbody tr th {\n",
       "        vertical-align: top;\n",
       "    }\n",
       "\n",
       "    .dataframe thead th {\n",
       "        text-align: right;\n",
       "    }\n",
       "</style>\n",
       "<table border=\"1\" class=\"dataframe\">\n",
       "  <thead>\n",
       "    <tr style=\"text-align: right;\">\n",
       "      <th></th>\n",
       "      <th>CID</th>\n",
       "      <th>SMILES</th>\n",
       "      <th>Categories</th>\n",
       "      <th>ZBG Classified</th>\n",
       "      <th>Unnamed: 4</th>\n",
       "      <th>Unnamed: 5</th>\n",
       "      <th>Unnamed: 6</th>\n",
       "    </tr>\n",
       "  </thead>\n",
       "  <tbody>\n",
       "    <tr>\n",
       "      <th>0</th>\n",
       "      <td>6918878</td>\n",
       "      <td>CC(=O)Nc1ccc(C(=O)Nc2cc(-c3cccs3)ccc2N)cc1</td>\n",
       "      <td>active</td>\n",
       "      <td>4</td>\n",
       "      <td>15.0</td>\n",
       "      <td>20.0</td>\n",
       "      <td>NaN</td>\n",
       "    </tr>\n",
       "    <tr>\n",
       "      <th>1</th>\n",
       "      <td>76284329</td>\n",
       "      <td>Nc1ccc(-c2cccs2)cc1NC(=O)c1cnc2c(C3CC3)c(N3CCN...</td>\n",
       "      <td>active</td>\n",
       "      <td>4</td>\n",
       "      <td>15.0</td>\n",
       "      <td>20.0</td>\n",
       "      <td>NaN</td>\n",
       "    </tr>\n",
       "    <tr>\n",
       "      <th>2</th>\n",
       "      <td>118721861</td>\n",
       "      <td>Cc1cccc(NC(=O)[C@H](CCCCCS)NC(=O)[C@H]2CCC(=O)...</td>\n",
       "      <td>active</td>\n",
       "      <td>4</td>\n",
       "      <td>9.0</td>\n",
       "      <td>15.0</td>\n",
       "      <td>NaN</td>\n",
       "    </tr>\n",
       "    <tr>\n",
       "      <th>3</th>\n",
       "      <td>165430653</td>\n",
       "      <td>CN(C)c1ccc(C(=O)N(CC(=O)NCc2ccccc2)Cc2ccc(C(=O...</td>\n",
       "      <td>active</td>\n",
       "      <td>1</td>\n",
       "      <td>15.0</td>\n",
       "      <td>NaN</td>\n",
       "      <td>NaN</td>\n",
       "    </tr>\n",
       "    <tr>\n",
       "      <th>4</th>\n",
       "      <td>42601485</td>\n",
       "      <td>CCOP(=O)(CNCc1ccc(C(=O)Nc2cc(-c3cccs3)ccc2N)cc...</td>\n",
       "      <td>active</td>\n",
       "      <td>4</td>\n",
       "      <td>15.0</td>\n",
       "      <td>20.0</td>\n",
       "      <td>NaN</td>\n",
       "    </tr>\n",
       "  </tbody>\n",
       "</table>\n",
       "</div>"
      ],
      "text/plain": [
       "         CID                                             SMILES Categories  \\\n",
       "0    6918878         CC(=O)Nc1ccc(C(=O)Nc2cc(-c3cccs3)ccc2N)cc1     active   \n",
       "1   76284329  Nc1ccc(-c2cccs2)cc1NC(=O)c1cnc2c(C3CC3)c(N3CCN...     active   \n",
       "2  118721861  Cc1cccc(NC(=O)[C@H](CCCCCS)NC(=O)[C@H]2CCC(=O)...     active   \n",
       "3  165430653  CN(C)c1ccc(C(=O)N(CC(=O)NCc2ccccc2)Cc2ccc(C(=O...     active   \n",
       "4   42601485  CCOP(=O)(CNCc1ccc(C(=O)Nc2cc(-c3cccs3)ccc2N)cc...     active   \n",
       "\n",
       "   ZBG Classified  Unnamed: 4  Unnamed: 5  Unnamed: 6  \n",
       "0               4        15.0        20.0         NaN  \n",
       "1               4        15.0        20.0         NaN  \n",
       "2               4         9.0        15.0         NaN  \n",
       "3               1        15.0         NaN         NaN  \n",
       "4               4        15.0        20.0         NaN  "
      ]
     },
     "execution_count": 3,
     "metadata": {},
     "output_type": "execute_result"
    }
   ],
   "source": [
    "dataset_c = dataset.copy() #Get a copy of the original dataset\n",
    "print(len(dataset))\n",
    "dataset.head()"
   ]
  },
  {
   "cell_type": "code",
   "execution_count": 4,
   "metadata": {},
   "outputs": [],
   "source": [
    "activity_col_name = \"Categories\"\n",
    "smiles_col_name = \"SMILES\"\n",
    "cid_col_name = \"CID\""
   ]
  },
  {
   "cell_type": "code",
   "execution_count": 5,
   "metadata": {},
   "outputs": [],
   "source": [
    "def show_activity_distribution(label, dataset):\n",
    "    #Rows for specific labels\n",
    "    active_rows = dataset.loc[dataset[label] == \"active\"]\n",
    "    inactive_rows = dataset.loc[dataset[label] == \"inactive\"]\n",
    "    dataset_length = len(dataset)\n",
    "    print(\"Total dataset\")\n",
    "    table = [['', 'active', 'inactive'], \n",
    "            ['Number', len(active_rows), len(inactive_rows)],\n",
    "            ['Percentage (%)', len(active_rows)/dataset_length*100, len(inactive_rows)/dataset_length*100]]\n",
    "    print(tabulate(table, headers='firstrow', tablefmt='fancy_grid'))"
   ]
  },
  {
   "attachments": {},
   "cell_type": "markdown",
   "metadata": {},
   "source": [
    "## 2. Activity distribution"
   ]
  },
  {
   "cell_type": "markdown",
   "metadata": {},
   "source": [
    "We used to have inconclusive and unspecified labels in the raw data, however, those labels in the raw data have been removed by now."
   ]
  },
  {
   "cell_type": "code",
   "execution_count": 6,
   "metadata": {},
   "outputs": [
    {
     "name": "stdout",
     "output_type": "stream",
     "text": [
      "Total dataset\n",
      "╒════════════════╤══════════╤════════════╕\n",
      "│                │   active │   inactive │\n",
      "╞════════════════╪══════════╪════════════╡\n",
      "│ Number         │ 897      │  1917      │\n",
      "├────────────────┼──────────┼────────────┤\n",
      "│ Percentage (%) │  31.8763 │    68.1237 │\n",
      "╘════════════════╧══════════╧════════════╛\n"
     ]
    }
   ],
   "source": [
    "show_activity_distribution(dataset=dataset, label=activity_col_name)"
   ]
  },
  {
   "attachments": {},
   "cell_type": "markdown",
   "metadata": {},
   "source": [
    "## 3. Remove conflict labels data"
   ]
  },
  {
   "cell_type": "code",
   "execution_count": 7,
   "metadata": {},
   "outputs": [],
   "source": [
    "def check_label_intersection(dataset, col_name):\n",
    "    active_rows = dataset.loc[dataset[col_name] == \"active\"]\n",
    "    inactive_rows = dataset.loc[dataset[col_name] == \"inactive\"]\n",
    "    \n",
    "    cid_active = active_rows.loc[:, 'SMILES']\n",
    "    cid_inactive = inactive_rows.loc[:, 'SMILES'] \n",
    "    ac_inac_cid = np.intersect1d(cid_active, cid_inactive)\n",
    "\n",
    "    print(\"activity intersection:\")\n",
    "    table = [['active-inactive'], \n",
    "             [len(ac_inac_cid)]]\n",
    "    print(tabulate(table, headers='firstrow', tablefmt='fancy_grid'))"
   ]
  },
  {
   "cell_type": "code",
   "execution_count": 8,
   "metadata": {},
   "outputs": [
    {
     "name": "stdout",
     "output_type": "stream",
     "text": [
      "activity intersection:\n",
      "╒═══════════════════╕\n",
      "│   active-inactive │\n",
      "╞═══════════════════╡\n",
      "│                 0 │\n",
      "╘═══════════════════╛\n"
     ]
    }
   ],
   "source": [
    "check_label_intersection(dataset=dataset, col_name=activity_col_name)"
   ]
  },
  {
   "attachments": {},
   "cell_type": "markdown",
   "metadata": {},
   "source": [
    "## Remove labels intersection"
   ]
  },
  {
   "attachments": {},
   "cell_type": "markdown",
   "metadata": {},
   "source": [
    "__Remove label intersection__"
   ]
  },
  {
   "cell_type": "code",
   "execution_count": 9,
   "metadata": {},
   "outputs": [],
   "source": [
    "def check_label_intersection(dataset, col_name):\n",
    "    '''\n",
    "        Description: Search for any data that have the same SMILES but have different labels\n",
    "    '''\n",
    "    active_rows = dataset.loc[dataset[col_name] == \"active\"]\n",
    "    inactive_rows = dataset.loc[dataset[col_name] == \"inactive\"]\n",
    "    \n",
    "    cid_active = active_rows.loc[:, 'SMILES']\n",
    "    cid_inactive = inactive_rows.loc[:, 'SMILES']\n",
    "    ac_inac_cid = np.intersect1d(cid_active, cid_inactive)\n",
    "    print(\"activity intersection:\")\n",
    "    table = [['Active-Inactive'], \n",
    "             [len(ac_inac_cid)]]\n",
    "    print(tabulate(table, headers='firstrow', tablefmt='fancy_grid'))"
   ]
  },
  {
   "cell_type": "code",
   "execution_count": 10,
   "metadata": {},
   "outputs": [
    {
     "name": "stdout",
     "output_type": "stream",
     "text": [
      "activity intersection:\n",
      "╒═══════════════════╕\n",
      "│   Active-Inactive │\n",
      "╞═══════════════════╡\n",
      "│                 0 │\n",
      "╘═══════════════════╛\n"
     ]
    }
   ],
   "source": [
    "check_label_intersection(dataset=dataset, col_name=activity_col_name)"
   ]
  },
  {
   "cell_type": "markdown",
   "metadata": {},
   "source": [
    "__Check if the SMILES are encodedable__"
   ]
  },
  {
   "cell_type": "code",
   "execution_count": 11,
   "metadata": {},
   "outputs": [],
   "source": [
    "from tqdm import tqdm\n",
    "\n",
    "def check_encode(data):\n",
    "    Maccs_fpts = []\n",
    "    error_index = []\n",
    "    count = 0\n",
    "    with tqdm(total=len(data), desc='Progress') as pbar:\n",
    "        for i in data:\n",
    "            try:\n",
    "                mol = Chem.MolFromSmiles(i)\n",
    "                m2_fpts = AllChem.GetMorganFingerprintAsBitVect(mol, 2, 1024)\n",
    "                maccs_fpts = MACCSkeys.GenMACCSKeys(mol)\n",
    "            except:\n",
    "                print(\"An exception occurred with \" + str(count))\n",
    "                error_index.append(count)\n",
    "                count += 1\n",
    "                continue\n",
    "            count += 1\n",
    "            pbar.update(1)  # Update the progress bar\n",
    "    return np.array(Maccs_fpts), error_index"
   ]
  },
  {
   "cell_type": "code",
   "execution_count": 12,
   "metadata": {},
   "outputs": [
    {
     "name": "stderr",
     "output_type": "stream",
     "text": [
      "Progress:  21%|██▏       | 599/2814 [00:00<00:01, 1523.06it/s]"
     ]
    },
    {
     "name": "stderr",
     "output_type": "stream",
     "text": [
      "Progress:  87%|████████▋ | 2439/2814 [00:01<00:00, 1741.84it/s][15:44:31] Can't kekulize mol.  Unkekulized atoms: 12 13 14 15 16\n",
      "[15:44:31] Can't kekulize mol.  Unkekulized atoms: 1 2 3 4 5 6 7 8 9\n",
      "[15:44:31] Can't kekulize mol.  Unkekulized atoms: 10 11 12 13 14 15 16 17 18\n",
      "[15:44:31] Can't kekulize mol.  Unkekulized atoms: 1 2 3 14 15 16 17 18 19\n",
      "Progress: 100%|█████████▉| 2810/2814 [00:01<00:00, 1630.61it/s]"
     ]
    },
    {
     "name": "stdout",
     "output_type": "stream",
     "text": [
      "An exception occurred with 2467\n",
      "An exception occurred with 2560\n",
      "An exception occurred with 2562\n",
      "An exception occurred with 2569\n"
     ]
    },
    {
     "name": "stderr",
     "output_type": "stream",
     "text": [
      "\n"
     ]
    }
   ],
   "source": [
    "smiles_data, error_idx = check_encode(dataset[smiles_col_name])"
   ]
  },
  {
   "cell_type": "code",
   "execution_count": 13,
   "metadata": {},
   "outputs": [
    {
     "data": {
      "text/plain": [
       "[2467, 2560, 2562, 2569]"
      ]
     },
     "execution_count": 13,
     "metadata": {},
     "output_type": "execute_result"
    }
   ],
   "source": [
    "error_idx"
   ]
  },
  {
   "cell_type": "code",
   "execution_count": 15,
   "metadata": {},
   "outputs": [],
   "source": [
    "error_encode_data = dataset_c.iloc[error_idx]"
   ]
  },
  {
   "cell_type": "code",
   "execution_count": 17,
   "metadata": {},
   "outputs": [],
   "source": [
    "error_encode_data.to_excel(\"../../results/error_data/error_encode_data.xlsx\")"
   ]
  },
  {
   "cell_type": "code",
   "execution_count": 16,
   "metadata": {},
   "outputs": [],
   "source": [
    "dataset_c = dataset_c.drop(error_idx)"
   ]
  },
  {
   "cell_type": "code",
   "execution_count": 17,
   "metadata": {},
   "outputs": [
    {
     "data": {
      "text/plain": [
       "2810"
      ]
     },
     "execution_count": 17,
     "metadata": {},
     "output_type": "execute_result"
    }
   ],
   "source": [
    "len(dataset_c)"
   ]
  },
  {
   "cell_type": "code",
   "execution_count": 18,
   "metadata": {},
   "outputs": [
    {
     "name": "stderr",
     "output_type": "stream",
     "text": [
      "Progress:   0%|          | 0/2810 [00:00<?, ?it/s]"
     ]
    },
    {
     "name": "stderr",
     "output_type": "stream",
     "text": [
      "Progress: 100%|██████████| 2810/2810 [00:01<00:00, 1590.28it/s]\n"
     ]
    }
   ],
   "source": [
    "smiles_data, error_idx = check_encode(dataset_c[smiles_col_name])"
   ]
  },
  {
   "cell_type": "markdown",
   "metadata": {},
   "source": [
    "__Write to file__"
   ]
  },
  {
   "cell_type": "code",
   "execution_count": 54,
   "metadata": {},
   "outputs": [],
   "source": [
    "# with pd.ExcelWriter('../../data_for_modeling/preprocessed_data/HDAC2_all_data_filtered_p2.xlsx', engine='openpyxl') as writer:\n",
    "#     writer.book = writer.book \n",
    "#     dataset_c.to_excel(writer, sheet_name='original_data', index=False)\n",
    "#     new_data.to_excel(writer, sheet_name='filter_data', index=False)\n",
    "#     dup_result.to_excel(writer, sheet_name='duplicate_smiles', index=False)\n",
    "#     data_ic50_processed.to_excel(writer, sheet_name=\"data_ic50_process\", index=False)\n",
    "with pd.ExcelWriter('../../data_for_modeling/preprocessed_data/HDAC2_preprocessed_data.xlsx', engine='openpyxl') as writer:\n",
    "    dataset_c.to_excel(writer, sheet_name='Sheet1', index=False)"
   ]
  }
 ],
 "metadata": {
  "kernelspec": {
   "display_name": "Python 3",
   "language": "python",
   "name": "python3"
  },
  "language_info": {
   "codemirror_mode": {
    "name": "ipython",
    "version": 3
   },
   "file_extension": ".py",
   "mimetype": "text/x-python",
   "name": "python",
   "nbconvert_exporter": "python",
   "pygments_lexer": "ipython3",
   "version": "3.11.7"
  },
  "orig_nbformat": 4
 },
 "nbformat": 4,
 "nbformat_minor": 2
}
