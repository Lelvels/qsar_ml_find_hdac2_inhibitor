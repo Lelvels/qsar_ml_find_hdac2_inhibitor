{
 "cells": [
  {
   "cell_type": "markdown",
   "metadata": {},
   "source": [
    "__Data preprocessing of the raw train-test data, to remove any duplicates, label conflicts, or \n",
    "IC50 value errors__"
   ]
  },
  {
   "cell_type": "code",
   "execution_count": 113,
   "metadata": {},
   "outputs": [],
   "source": [
    "from rdkit.Chem import AllChem\n",
    "from rdkit import Chem\n",
    "from rdkit.Chem import Descriptors, MACCSkeys\n",
    "from rdkit.ML.Descriptors import MoleculeDescriptors\n",
    "\n",
    "import pandas as pd\n",
    "import numpy as np\n",
    "import matplotlib.pyplot as plt\n",
    "import seaborn as sns\n",
    "from tabulate import tabulate"
   ]
  },
  {
   "attachments": {},
   "cell_type": "markdown",
   "metadata": {},
   "source": [
    "# Starting data preprocessing"
   ]
  },
  {
   "attachments": {},
   "cell_type": "markdown",
   "metadata": {},
   "source": [
    "## 1. Read the data"
   ]
  },
  {
   "cell_type": "code",
   "execution_count": 114,
   "metadata": {},
   "outputs": [],
   "source": [
    "all_data_path = \"../../data_for_modeling/raw_data/HDAC2_raw_data.xlsx\"\n",
    "dataset = pd.read_excel(all_data_path, sheet_name='original_data')"
   ]
  },
  {
   "cell_type": "code",
   "execution_count": 115,
   "metadata": {},
   "outputs": [
    {
     "name": "stdout",
     "output_type": "stream",
     "text": [
      "2801\n"
     ]
    },
    {
     "data": {
      "text/html": [
       "<div>\n",
       "<style scoped>\n",
       "    .dataframe tbody tr th:only-of-type {\n",
       "        vertical-align: middle;\n",
       "    }\n",
       "\n",
       "    .dataframe tbody tr th {\n",
       "        vertical-align: top;\n",
       "    }\n",
       "\n",
       "    .dataframe thead th {\n",
       "        text-align: right;\n",
       "    }\n",
       "</style>\n",
       "<table border=\"1\" class=\"dataframe\">\n",
       "  <thead>\n",
       "    <tr style=\"text-align: right;\">\n",
       "      <th></th>\n",
       "      <th>CID</th>\n",
       "      <th>CHEMBL_ID</th>\n",
       "      <th>BDB_ID</th>\n",
       "      <th>SMILES</th>\n",
       "      <th>IC50 CHEMBL</th>\n",
       "      <th>IC50 BDMB</th>\n",
       "      <th>IC50_nM</th>\n",
       "      <th>LABELS</th>\n",
       "      <th>ZBG Classified</th>\n",
       "    </tr>\n",
       "  </thead>\n",
       "  <tbody>\n",
       "    <tr>\n",
       "      <th>0</th>\n",
       "      <td>264</td>\n",
       "      <td>CHEMBL14227</td>\n",
       "      <td>26109.0</td>\n",
       "      <td>CCCC(=O)O</td>\n",
       "      <td>206000.000000</td>\n",
       "      <td>206000</td>\n",
       "      <td>206000.000000</td>\n",
       "      <td>Inactive</td>\n",
       "      <td>3</td>\n",
       "    </tr>\n",
       "    <tr>\n",
       "      <th>1</th>\n",
       "      <td>2746</td>\n",
       "      <td>CHEMBL235191</td>\n",
       "      <td>19422.0</td>\n",
       "      <td>CC(=O)Nc1ccc(C(=O)Nc2ccccc2N)cc1</td>\n",
       "      <td>1495.875000</td>\n",
       "      <td>1040.083333</td>\n",
       "      <td>1495.875000</td>\n",
       "      <td>Inactive</td>\n",
       "      <td>4</td>\n",
       "    </tr>\n",
       "    <tr>\n",
       "      <th>2</th>\n",
       "      <td>2788</td>\n",
       "      <td>NaN</td>\n",
       "      <td>32188.0</td>\n",
       "      <td>Oc1c(I)cc(Cl)c2cccnc12</td>\n",
       "      <td>NaN</td>\n",
       "      <td>105800</td>\n",
       "      <td>105800.000000</td>\n",
       "      <td>Inactive</td>\n",
       "      <td>21</td>\n",
       "    </tr>\n",
       "    <tr>\n",
       "      <th>3</th>\n",
       "      <td>3121</td>\n",
       "      <td>CHEMBL109</td>\n",
       "      <td>50003616.0</td>\n",
       "      <td>CCCC(CCC)C(=O)O</td>\n",
       "      <td>288246.666667</td>\n",
       "      <td>288246.666667</td>\n",
       "      <td>288246.666667</td>\n",
       "      <td>Inactive</td>\n",
       "      <td>3</td>\n",
       "    </tr>\n",
       "    <tr>\n",
       "      <th>4</th>\n",
       "      <td>3994</td>\n",
       "      <td>NaN</td>\n",
       "      <td>50082665.0</td>\n",
       "      <td>CN(C)c1ccc(cc1)C(=O)NCCCCCCC(=O)NO</td>\n",
       "      <td>NaN</td>\n",
       "      <td>20.7</td>\n",
       "      <td>20.700000</td>\n",
       "      <td>Active</td>\n",
       "      <td>1</td>\n",
       "    </tr>\n",
       "  </tbody>\n",
       "</table>\n",
       "</div>"
      ],
      "text/plain": [
       "    CID     CHEMBL_ID      BDB_ID                              SMILES  \\\n",
       "0   264   CHEMBL14227     26109.0                           CCCC(=O)O   \n",
       "1  2746  CHEMBL235191     19422.0    CC(=O)Nc1ccc(C(=O)Nc2ccccc2N)cc1   \n",
       "2  2788           NaN     32188.0              Oc1c(I)cc(Cl)c2cccnc12   \n",
       "3  3121     CHEMBL109  50003616.0                     CCCC(CCC)C(=O)O   \n",
       "4  3994           NaN  50082665.0  CN(C)c1ccc(cc1)C(=O)NCCCCCCC(=O)NO   \n",
       "\n",
       "     IC50 CHEMBL      IC50 BDMB        IC50_nM    LABELS  ZBG Classified  \n",
       "0  206000.000000         206000  206000.000000  Inactive               3  \n",
       "1    1495.875000    1040.083333    1495.875000  Inactive               4  \n",
       "2            NaN         105800  105800.000000  Inactive              21  \n",
       "3  288246.666667  288246.666667  288246.666667  Inactive               3  \n",
       "4            NaN           20.7      20.700000    Active               1  "
      ]
     },
     "execution_count": 115,
     "metadata": {},
     "output_type": "execute_result"
    }
   ],
   "source": [
    "dataset_c = dataset.copy() #Get a copy of the original dataset\n",
    "print(len(dataset))\n",
    "dataset.head()"
   ]
  },
  {
   "cell_type": "code",
   "execution_count": 116,
   "metadata": {},
   "outputs": [],
   "source": [
    "ic50_col_name = \"IC50_nM\"\n",
    "activity_col_name = \"LABELS\"\n",
    "smiles_col_name = \"SMILES\"\n",
    "cid_col_name = \"CID\""
   ]
  },
  {
   "cell_type": "code",
   "execution_count": 117,
   "metadata": {},
   "outputs": [],
   "source": [
    "def show_activity_distribution(label, dataset):\n",
    "    #Rows for specific labels\n",
    "    active_rows = dataset.loc[dataset[label] == \"Active\"]\n",
    "    inactive_rows = dataset.loc[dataset[label] == \"Inactive\"]\n",
    "    inconclusive_rows = dataset.loc[dataset[label] == \"Inconclusive\"]\n",
    "    unspecified_rows = dataset.loc[dataset[label] == \"Unspecified\"]\n",
    "    dataset_length = len(dataset)\n",
    "    print(\"Total dataset\")\n",
    "    table = [['', 'Active', 'Inactive', 'Inconclusive', 'Unspecified'], \n",
    "            ['Number', len(active_rows), len(inactive_rows), len(inconclusive_rows), len(unspecified_rows)],\n",
    "            ['Percentage (%)', len(active_rows)/dataset_length*100, len(inactive_rows)/dataset_length*100,\n",
    "            len(inconclusive_rows)/dataset_length*100, len(unspecified_rows)/dataset_length*100]]\n",
    "    print(tabulate(table, headers='firstrow', tablefmt='fancy_grid'))"
   ]
  },
  {
   "attachments": {},
   "cell_type": "markdown",
   "metadata": {},
   "source": [
    "## 2. Activity distribution"
   ]
  },
  {
   "cell_type": "markdown",
   "metadata": {},
   "source": [
    "We used to have inconclusive and unspecified labels in the raw data, however, those labels in the raw data have been removed by now."
   ]
  },
  {
   "cell_type": "code",
   "execution_count": 118,
   "metadata": {},
   "outputs": [
    {
     "name": "stdout",
     "output_type": "stream",
     "text": [
      "Total dataset\n",
      "╒════════════════╤══════════╤════════════╤════════════════╤═══════════════╕\n",
      "│                │   Active │   Inactive │   Inconclusive │   Unspecified │\n",
      "╞════════════════╪══════════╪════════════╪════════════════╪═══════════════╡\n",
      "│ Number         │ 899      │  1902      │              0 │             0 │\n",
      "├────────────────┼──────────┼────────────┼────────────────┼───────────────┤\n",
      "│ Percentage (%) │  32.0957 │    67.9043 │              0 │             0 │\n",
      "╘════════════════╧══════════╧════════════╧════════════════╧═══════════════╛\n"
     ]
    }
   ],
   "source": [
    "show_activity_distribution(dataset=dataset, label=activity_col_name)"
   ]
  },
  {
   "attachments": {},
   "cell_type": "markdown",
   "metadata": {},
   "source": [
    "## 3. Remove conflict labels data"
   ]
  },
  {
   "cell_type": "code",
   "execution_count": null,
   "metadata": {},
   "outputs": [],
   "source": [
    "def check_label_intersection(dataset, col_name):\n",
    "    active_rows = dataset.loc[dataset[col_name] == \"Active\"]\n",
    "    inactive_rows = dataset.loc[dataset[col_name] == \"Inactive\"]\n",
    "    inconclusive_rows = dataset.loc[dataset[col_name] == \"Inconclusive\"]\n",
    "    unspecified_rows = dataset.loc[dataset[col_name] == \"Unspecified\"]\n",
    "    \n",
    "    cid_active = active_rows.loc[:, 'SMILES']\n",
    "    cid_inactive = inactive_rows.loc[:, 'SMILES']\n",
    "    cid_incon = inconclusive_rows.loc[:, 'SMILES']\n",
    "    cid_unspec = unspecified_rows.loc[:, 'SMILES']\n",
    "    \n",
    "    ac_inac_cid = np.intersect1d(cid_active, cid_inactive)\n",
    "    ac_incon_cid = np.intersect1d(cid_active, cid_incon)\n",
    "    ac_unspec_cid = np.intersect1d(cid_active, cid_unspec)\n",
    "\n",
    "    inac_incon_cid = np.intersect1d(cid_inactive, cid_incon)\n",
    "    incon_unspec_cid = np.intersect1d(cid_incon, cid_unspec)\n",
    "    inac_unspec_cid = np.intersect1d(cid_inactive, cid_unspec)\n",
    "    \n",
    "    print(\"Activity intersection:\")\n",
    "    table = [['Active-Inactive', 'Active-Inconclusive', 'Active-Unspecified', 'Inactive-Inconclusive', 'Inactive-Unspecified', 'Inconclusive-Unspecifid'], \n",
    "             [len(ac_inac_cid), len(ac_incon_cid), len(ac_unspec_cid), len(inac_incon_cid), len(inac_unspec_cid), len(incon_unspec_cid)]]\n",
    "    print(tabulate(table, headers='firstrow', tablefmt='fancy_grid'))"
   ]
  },
  {
   "cell_type": "code",
   "execution_count": 123,
   "metadata": {},
   "outputs": [
    {
     "name": "stdout",
     "output_type": "stream",
     "text": [
      "Activity intersection:\n",
      "╒═══════════════════╤═══════════════════════╤══════════════════════╤═════════════════════════╤════════════════════════╤═══════════════════════════╕\n",
      "│   Active-Inactive │   Active-Inconclusive │   Active-Unspecified │   Inactive-Inconclusive │   Inactive-Unspecified │   Inconclusive-Unspecifid │\n",
      "╞═══════════════════╪═══════════════════════╪══════════════════════╪═════════════════════════╪════════════════════════╪═══════════════════════════╡\n",
      "│                 0 │                     0 │                    0 │                       0 │                      0 │                         0 │\n",
      "╘═══════════════════╧═══════════════════════╧══════════════════════╧═════════════════════════╧════════════════════════╧═══════════════════════════╛\n"
     ]
    }
   ],
   "source": [
    "check_label_intersection(dataset=dataset, col_name=activity_col_name)"
   ]
  },
  {
   "attachments": {},
   "cell_type": "markdown",
   "metadata": {},
   "source": [
    "# Remove error data"
   ]
  },
  {
   "attachments": {},
   "cell_type": "markdown",
   "metadata": {},
   "source": [
    "## Remove IC50 errors data"
   ]
  },
  {
   "cell_type": "code",
   "execution_count": 127,
   "metadata": {},
   "outputs": [],
   "source": [
    "def find_non_float_ic50(dataset, ic50_col_name):\n",
    "    # Use to_numeric to identify non-float values\n",
    "    is_float = pd.to_numeric(dataset[ic50_col_name], errors='coerce').notna()\n",
    "    # Find the rows where 'IC50 (nM)' is not a float\n",
    "    non_float_rows = dataset[~is_float]\n",
    "    return non_float_rows\n",
    "\n",
    "dataset[ic50_col_name] = pd.to_numeric(dataset[ic50_col_name])\n",
    "dataset = dataset.dropna(subset=[ic50_col_name])\n",
    "dataset = dataset.drop(dataset.loc[dataset[ic50_col_name] == 0].index)"
   ]
  },
  {
   "cell_type": "code",
   "execution_count": 128,
   "metadata": {},
   "outputs": [
    {
     "data": {
      "text/plain": [
       "2801"
      ]
     },
     "execution_count": 128,
     "metadata": {},
     "output_type": "execute_result"
    }
   ],
   "source": [
    "len(dataset)"
   ]
  },
  {
   "cell_type": "code",
   "execution_count": 129,
   "metadata": {},
   "outputs": [
    {
     "name": "stdout",
     "output_type": "stream",
     "text": [
      "Total dataset\n",
      "╒════════════════╤══════════╤════════════╤════════════════╤═══════════════╕\n",
      "│                │   Active │   Inactive │   Inconclusive │   Unspecified │\n",
      "╞════════════════╪══════════╪════════════╪════════════════╪═══════════════╡\n",
      "│ Number         │ 899      │  1902      │              0 │             0 │\n",
      "├────────────────┼──────────┼────────────┼────────────────┼───────────────┤\n",
      "│ Percentage (%) │  32.0957 │    67.9043 │              0 │             0 │\n",
      "╘════════════════╧══════════╧════════════╧════════════════╧═══════════════╛\n"
     ]
    }
   ],
   "source": [
    "show_activity_distribution(dataset=dataset, label=activity_col_name)"
   ]
  },
  {
   "cell_type": "code",
   "execution_count": 130,
   "metadata": {},
   "outputs": [
    {
     "data": {
      "text/html": [
       "<div>\n",
       "<style scoped>\n",
       "    .dataframe tbody tr th:only-of-type {\n",
       "        vertical-align: middle;\n",
       "    }\n",
       "\n",
       "    .dataframe tbody tr th {\n",
       "        vertical-align: top;\n",
       "    }\n",
       "\n",
       "    .dataframe thead th {\n",
       "        text-align: right;\n",
       "    }\n",
       "</style>\n",
       "<table border=\"1\" class=\"dataframe\">\n",
       "  <thead>\n",
       "    <tr style=\"text-align: right;\">\n",
       "      <th></th>\n",
       "      <th>CID</th>\n",
       "      <th>CHEMBL_ID</th>\n",
       "      <th>BDB_ID</th>\n",
       "      <th>SMILES</th>\n",
       "      <th>IC50 CHEMBL</th>\n",
       "      <th>IC50 BDMB</th>\n",
       "      <th>IC50_nM</th>\n",
       "      <th>LABELS</th>\n",
       "      <th>ZBG Classified</th>\n",
       "    </tr>\n",
       "  </thead>\n",
       "  <tbody>\n",
       "  </tbody>\n",
       "</table>\n",
       "</div>"
      ],
      "text/plain": [
       "Empty DataFrame\n",
       "Columns: [CID, CHEMBL_ID, BDB_ID, SMILES, IC50 CHEMBL, IC50 BDMB, IC50_nM, LABELS, ZBG Classified]\n",
       "Index: []"
      ]
     },
     "execution_count": 130,
     "metadata": {},
     "output_type": "execute_result"
    }
   ],
   "source": [
    "non_float_rows = find_non_float_ic50(dataset=dataset, ic50_col_name=ic50_col_name)\n",
    "non_float_rows.head()"
   ]
  },
  {
   "cell_type": "code",
   "execution_count": 131,
   "metadata": {},
   "outputs": [
    {
     "name": "stdout",
     "output_type": "stream",
     "text": [
      "0\n"
     ]
    }
   ],
   "source": [
    "print(len(dataset.loc[dataset[ic50_col_name] == 0].index))"
   ]
  },
  {
   "cell_type": "code",
   "execution_count": 132,
   "metadata": {},
   "outputs": [],
   "source": [
    "data_ic50_processed = dataset.copy()"
   ]
  },
  {
   "attachments": {},
   "cell_type": "markdown",
   "metadata": {},
   "source": [
    "## Remove labels intersection"
   ]
  },
  {
   "attachments": {},
   "cell_type": "markdown",
   "metadata": {},
   "source": [
    "__Remove label intersection__"
   ]
  },
  {
   "cell_type": "code",
   "execution_count": null,
   "metadata": {},
   "outputs": [],
   "source": [
    "def check_label_intersection(dataset, col_name):\n",
    "    '''\n",
    "        Description: Search for any data that have the same SMILES but have different labels\n",
    "    '''\n",
    "    active_rows = dataset.loc[dataset[col_name] == \"Active\"]\n",
    "    inactive_rows = dataset.loc[dataset[col_name] == \"Inactive\"]\n",
    "    inconclusive_rows = dataset.loc[dataset[col_name] == \"Inconclusive\"]\n",
    "    unspecified_rows = dataset.loc[dataset[col_name] == \"Unspecified\"]\n",
    "    \n",
    "    cid_active = active_rows.loc[:, 'SMILES']\n",
    "    cid_inactive = inactive_rows.loc[:, 'SMILES']\n",
    "    cid_incon = inconclusive_rows.loc[:, 'SMILES']\n",
    "    cid_unspec = unspecified_rows.loc[:, 'SMILES']\n",
    "    \n",
    "    ac_inac_cid = np.intersect1d(cid_active, cid_inactive)\n",
    "    ac_incon_cid = np.intersect1d(cid_active, cid_incon)\n",
    "    ac_unspec_cid = np.intersect1d(cid_active, cid_unspec)\n",
    "\n",
    "    inac_incon_cid = np.intersect1d(cid_inactive, cid_incon)\n",
    "    incon_unspec_cid = np.intersect1d(cid_incon, cid_unspec)\n",
    "    inac_unspec_cid = np.intersect1d(cid_inactive, cid_unspec)\n",
    "    \n",
    "    print(\"Activity intersection:\")\n",
    "    table = [['Active-Inactive', 'Active-Inconclusive', 'Active-Unspecified', 'Inactive-Inconclusive', 'Inactive-Unspecified', 'Inconclusive-Unspecifid'], \n",
    "             [len(ac_inac_cid), len(ac_incon_cid), len(ac_unspec_cid), len(inac_incon_cid), len(inac_unspec_cid), len(incon_unspec_cid)]]\n",
    "    print(tabulate(table, headers='firstrow', tablefmt='fancy_grid'))"
   ]
  },
  {
   "cell_type": "code",
   "execution_count": 133,
   "metadata": {},
   "outputs": [
    {
     "name": "stdout",
     "output_type": "stream",
     "text": [
      "Activity intersection:\n",
      "╒═══════════════════╤═══════════════════════╤══════════════════════╤═════════════════════════╤════════════════════════╤═══════════════════════════╕\n",
      "│   Active-Inactive │   Active-Inconclusive │   Active-Unspecified │   Inactive-Inconclusive │   Inactive-Unspecified │   Inconclusive-Unspecifid │\n",
      "╞═══════════════════╪═══════════════════════╪══════════════════════╪═════════════════════════╪════════════════════════╪═══════════════════════════╡\n",
      "│                 0 │                     0 │                    0 │                       0 │                      0 │                         0 │\n",
      "╘═══════════════════╧═══════════════════════╧══════════════════════╧═════════════════════════╧════════════════════════╧═══════════════════════════╛\n"
     ]
    }
   ],
   "source": [
    "check_label_intersection(dataset=dataset, col_name=activity_col_name)"
   ]
  },
  {
   "cell_type": "code",
   "execution_count": 134,
   "metadata": {},
   "outputs": [],
   "source": [
    "def get_new_data_by_activity(dataset, activity, activity_col_name, new_columns, ic50_col_name):\n",
    "    #Handling the active rows first\n",
    "    data_rows = dataset.loc[dataset[activity_col_name] == activity]\n",
    "    new_rows = pd.DataFrame(columns=new_columns)\n",
    "    for cid in data_rows.CID.unique():\n",
    "        sub_dataset = data_rows.loc[data_rows.CID == cid]\n",
    "        avg_ic50, dup_count = 0, 0\n",
    "        for index, row in sub_dataset.iterrows():\n",
    "            avg_ic50 = avg_ic50 + float(row[ic50_col_name])/len(sub_dataset)\n",
    "            dup_count = dup_count + 1\n",
    "        new_rows.loc[len(new_rows)] = [row.CID, row.SMILES ,avg_ic50, activity,\n",
    "                                            {True: 'Active', False: 'Inactive'} [avg_ic50 < 190],\n",
    "                                            dup_count]\n",
    "    return new_rows"
   ]
  },
  {
   "cell_type": "code",
   "execution_count": 135,
   "metadata": {},
   "outputs": [],
   "source": [
    "new_columns = [\"CID\", \"SMILES\", \"AVG_IC50_nM\", \"FIRST_LABEL\", \"FINAL_LABEL\", \"DUPLICATE_COUNTS\"]"
   ]
  },
  {
   "cell_type": "code",
   "execution_count": 136,
   "metadata": {},
   "outputs": [
    {
     "name": "stdout",
     "output_type": "stream",
     "text": [
      "899\n"
     ]
    },
    {
     "data": {
      "text/html": [
       "<div>\n",
       "<style scoped>\n",
       "    .dataframe tbody tr th:only-of-type {\n",
       "        vertical-align: middle;\n",
       "    }\n",
       "\n",
       "    .dataframe tbody tr th {\n",
       "        vertical-align: top;\n",
       "    }\n",
       "\n",
       "    .dataframe thead th {\n",
       "        text-align: right;\n",
       "    }\n",
       "</style>\n",
       "<table border=\"1\" class=\"dataframe\">\n",
       "  <thead>\n",
       "    <tr style=\"text-align: right;\">\n",
       "      <th></th>\n",
       "      <th>CID</th>\n",
       "      <th>SMILES</th>\n",
       "      <th>AVG_IC50_uM</th>\n",
       "      <th>FIRST_LABEL</th>\n",
       "      <th>FINAL_LABEL</th>\n",
       "      <th>DUPLICATE_COUNTS</th>\n",
       "    </tr>\n",
       "  </thead>\n",
       "  <tbody>\n",
       "    <tr>\n",
       "      <th>0</th>\n",
       "      <td>3994</td>\n",
       "      <td>CN(C)c1ccc(cc1)C(=O)NCCCCCCC(=O)NO</td>\n",
       "      <td>20.700000</td>\n",
       "      <td>Active</td>\n",
       "      <td>Active</td>\n",
       "      <td>1</td>\n",
       "    </tr>\n",
       "    <tr>\n",
       "      <th>1</th>\n",
       "      <td>5311</td>\n",
       "      <td>O=C(CCCCCCC(=O)Nc1ccccc1)NO</td>\n",
       "      <td>189.846512</td>\n",
       "      <td>Active</td>\n",
       "      <td>Active</td>\n",
       "      <td>1</td>\n",
       "    </tr>\n",
       "    <tr>\n",
       "      <th>2</th>\n",
       "      <td>65628</td>\n",
       "      <td>Cn1c(CCCC(=O)O)nc2cc(N(CCCl)CCCl)ccc21</td>\n",
       "      <td>9.500000</td>\n",
       "      <td>Active</td>\n",
       "      <td>Active</td>\n",
       "      <td>1</td>\n",
       "    </tr>\n",
       "    <tr>\n",
       "      <th>3</th>\n",
       "      <td>4596836</td>\n",
       "      <td>CCCCNNC(=O)c1ccc(Br)cc1</td>\n",
       "      <td>155.500000</td>\n",
       "      <td>Active</td>\n",
       "      <td>Active</td>\n",
       "      <td>1</td>\n",
       "    </tr>\n",
       "    <tr>\n",
       "      <th>4</th>\n",
       "      <td>6400741</td>\n",
       "      <td>O=C(NCCSSCCNC(=O)/C(Cc1ccc(O)c(Br)c1)=N/O)/C(C...</td>\n",
       "      <td>33.000000</td>\n",
       "      <td>Active</td>\n",
       "      <td>Active</td>\n",
       "      <td>1</td>\n",
       "    </tr>\n",
       "  </tbody>\n",
       "</table>\n",
       "</div>"
      ],
      "text/plain": [
       "       CID                                             SMILES  AVG_IC50_uM  \\\n",
       "0     3994                 CN(C)c1ccc(cc1)C(=O)NCCCCCCC(=O)NO    20.700000   \n",
       "1     5311                        O=C(CCCCCCC(=O)Nc1ccccc1)NO   189.846512   \n",
       "2    65628             Cn1c(CCCC(=O)O)nc2cc(N(CCCl)CCCl)ccc21     9.500000   \n",
       "3  4596836                            CCCCNNC(=O)c1ccc(Br)cc1   155.500000   \n",
       "4  6400741  O=C(NCCSSCCNC(=O)/C(Cc1ccc(O)c(Br)c1)=N/O)/C(C...    33.000000   \n",
       "\n",
       "  FIRST_LABEL FINAL_LABEL  DUPLICATE_COUNTS  \n",
       "0      Active      Active                 1  \n",
       "1      Active      Active                 1  \n",
       "2      Active      Active                 1  \n",
       "3      Active      Active                 1  \n",
       "4      Active      Active                 1  "
      ]
     },
     "execution_count": 136,
     "metadata": {},
     "output_type": "execute_result"
    }
   ],
   "source": [
    "new_active_rows = get_new_data_by_activity(dataset=dataset, activity='Active', activity_col_name=activity_col_name, new_columns=new_columns, ic50_col_name=ic50_col_name)\n",
    "print(len(new_active_rows))\n",
    "new_active_rows.head()"
   ]
  },
  {
   "attachments": {},
   "cell_type": "markdown",
   "metadata": {},
   "source": [
    "__Inactive rows__"
   ]
  },
  {
   "cell_type": "code",
   "execution_count": 137,
   "metadata": {},
   "outputs": [
    {
     "name": "stdout",
     "output_type": "stream",
     "text": [
      "1902\n"
     ]
    },
    {
     "data": {
      "text/html": [
       "<div>\n",
       "<style scoped>\n",
       "    .dataframe tbody tr th:only-of-type {\n",
       "        vertical-align: middle;\n",
       "    }\n",
       "\n",
       "    .dataframe tbody tr th {\n",
       "        vertical-align: top;\n",
       "    }\n",
       "\n",
       "    .dataframe thead th {\n",
       "        text-align: right;\n",
       "    }\n",
       "</style>\n",
       "<table border=\"1\" class=\"dataframe\">\n",
       "  <thead>\n",
       "    <tr style=\"text-align: right;\">\n",
       "      <th></th>\n",
       "      <th>CID</th>\n",
       "      <th>SMILES</th>\n",
       "      <th>AVG_IC50_uM</th>\n",
       "      <th>FIRST_LABEL</th>\n",
       "      <th>FINAL_LABEL</th>\n",
       "      <th>DUPLICATE_COUNTS</th>\n",
       "    </tr>\n",
       "  </thead>\n",
       "  <tbody>\n",
       "    <tr>\n",
       "      <th>0</th>\n",
       "      <td>264</td>\n",
       "      <td>CCCC(=O)O</td>\n",
       "      <td>206000.000000</td>\n",
       "      <td>Inactive</td>\n",
       "      <td>Inactive</td>\n",
       "      <td>1</td>\n",
       "    </tr>\n",
       "    <tr>\n",
       "      <th>1</th>\n",
       "      <td>2746</td>\n",
       "      <td>CC(=O)Nc1ccc(C(=O)Nc2ccccc2N)cc1</td>\n",
       "      <td>1495.875000</td>\n",
       "      <td>Inactive</td>\n",
       "      <td>Inactive</td>\n",
       "      <td>1</td>\n",
       "    </tr>\n",
       "    <tr>\n",
       "      <th>2</th>\n",
       "      <td>2788</td>\n",
       "      <td>Oc1c(I)cc(Cl)c2cccnc12</td>\n",
       "      <td>105800.000000</td>\n",
       "      <td>Inactive</td>\n",
       "      <td>Inactive</td>\n",
       "      <td>1</td>\n",
       "    </tr>\n",
       "    <tr>\n",
       "      <th>3</th>\n",
       "      <td>3121</td>\n",
       "      <td>CCCC(CCC)C(=O)O</td>\n",
       "      <td>288246.666667</td>\n",
       "      <td>Inactive</td>\n",
       "      <td>Inactive</td>\n",
       "      <td>1</td>\n",
       "    </tr>\n",
       "    <tr>\n",
       "      <th>4</th>\n",
       "      <td>4261</td>\n",
       "      <td>Nc1ccccc1NC(=O)c1ccc(CNC(=O)OCc2cccnc2)cc1</td>\n",
       "      <td>502.335484</td>\n",
       "      <td>Inactive</td>\n",
       "      <td>Inactive</td>\n",
       "      <td>1</td>\n",
       "    </tr>\n",
       "    <tr>\n",
       "      <th>...</th>\n",
       "      <td>...</td>\n",
       "      <td>...</td>\n",
       "      <td>...</td>\n",
       "      <td>...</td>\n",
       "      <td>...</td>\n",
       "      <td>...</td>\n",
       "    </tr>\n",
       "    <tr>\n",
       "      <th>1897</th>\n",
       "      <td>136645396A</td>\n",
       "      <td>CCCc1nn(C)c2c(=O)[nH]c(-c3cc([C@H]4CC[C@@H](C(...</td>\n",
       "      <td>20000.000000</td>\n",
       "      <td>Inactive</td>\n",
       "      <td>Inactive</td>\n",
       "      <td>1</td>\n",
       "    </tr>\n",
       "    <tr>\n",
       "      <th>1898</th>\n",
       "      <td>137290273C</td>\n",
       "      <td>CCOc1ccc(C[C@H]2C[C@@H](C(=O)NO)C2)cc1-c1nc2c(...</td>\n",
       "      <td>729.000000</td>\n",
       "      <td>Inactive</td>\n",
       "      <td>Inactive</td>\n",
       "      <td>1</td>\n",
       "    </tr>\n",
       "    <tr>\n",
       "      <th>1899</th>\n",
       "      <td>137290273D</td>\n",
       "      <td>CCOc1ccc(C[C@H]2C[C@H](C(=O)NO)C2)cc1-c1nc2c(C...</td>\n",
       "      <td>1220.000000</td>\n",
       "      <td>Inactive</td>\n",
       "      <td>Inactive</td>\n",
       "      <td>1</td>\n",
       "    </tr>\n",
       "    <tr>\n",
       "      <th>1900</th>\n",
       "      <td>137290344B</td>\n",
       "      <td>CCOc1ccc(C[C@H]2CC[C@H](C(=O)NO)CC2)cc1-c1nc2c...</td>\n",
       "      <td>20000.000000</td>\n",
       "      <td>Inactive</td>\n",
       "      <td>Inactive</td>\n",
       "      <td>1</td>\n",
       "    </tr>\n",
       "    <tr>\n",
       "      <th>1901</th>\n",
       "      <td>86291495A</td>\n",
       "      <td>CC1(C)CC(=O)Nc2ccc(C(=O)NC[C@H]3CC[C@@H](/C=C/...</td>\n",
       "      <td>310.000000</td>\n",
       "      <td>Inactive</td>\n",
       "      <td>Inactive</td>\n",
       "      <td>1</td>\n",
       "    </tr>\n",
       "  </tbody>\n",
       "</table>\n",
       "<p>1902 rows × 6 columns</p>\n",
       "</div>"
      ],
      "text/plain": [
       "             CID                                             SMILES  \\\n",
       "0            264                                          CCCC(=O)O   \n",
       "1           2746                   CC(=O)Nc1ccc(C(=O)Nc2ccccc2N)cc1   \n",
       "2           2788                             Oc1c(I)cc(Cl)c2cccnc12   \n",
       "3           3121                                    CCCC(CCC)C(=O)O   \n",
       "4           4261         Nc1ccccc1NC(=O)c1ccc(CNC(=O)OCc2cccnc2)cc1   \n",
       "...          ...                                                ...   \n",
       "1897  136645396A  CCCc1nn(C)c2c(=O)[nH]c(-c3cc([C@H]4CC[C@@H](C(...   \n",
       "1898  137290273C  CCOc1ccc(C[C@H]2C[C@@H](C(=O)NO)C2)cc1-c1nc2c(...   \n",
       "1899  137290273D  CCOc1ccc(C[C@H]2C[C@H](C(=O)NO)C2)cc1-c1nc2c(C...   \n",
       "1900  137290344B  CCOc1ccc(C[C@H]2CC[C@H](C(=O)NO)CC2)cc1-c1nc2c...   \n",
       "1901   86291495A  CC1(C)CC(=O)Nc2ccc(C(=O)NC[C@H]3CC[C@@H](/C=C/...   \n",
       "\n",
       "        AVG_IC50_uM FIRST_LABEL FINAL_LABEL  DUPLICATE_COUNTS  \n",
       "0     206000.000000    Inactive    Inactive                 1  \n",
       "1       1495.875000    Inactive    Inactive                 1  \n",
       "2     105800.000000    Inactive    Inactive                 1  \n",
       "3     288246.666667    Inactive    Inactive                 1  \n",
       "4        502.335484    Inactive    Inactive                 1  \n",
       "...             ...         ...         ...               ...  \n",
       "1897   20000.000000    Inactive    Inactive                 1  \n",
       "1898     729.000000    Inactive    Inactive                 1  \n",
       "1899    1220.000000    Inactive    Inactive                 1  \n",
       "1900   20000.000000    Inactive    Inactive                 1  \n",
       "1901     310.000000    Inactive    Inactive                 1  \n",
       "\n",
       "[1902 rows x 6 columns]"
      ]
     },
     "execution_count": 137,
     "metadata": {},
     "output_type": "execute_result"
    }
   ],
   "source": [
    "new_inactive_rows = get_new_data_by_activity(dataset=dataset, activity='Inactive', ic50_col_name=ic50_col_name, activity_col_name=activity_col_name, new_columns=new_columns)\n",
    "print(len(new_inactive_rows))\n",
    "new_inactive_rows"
   ]
  },
  {
   "attachments": {},
   "cell_type": "markdown",
   "metadata": {},
   "source": [
    "__Combine these data__"
   ]
  },
  {
   "cell_type": "code",
   "execution_count": 139,
   "metadata": {},
   "outputs": [
    {
     "name": "stdout",
     "output_type": "stream",
     "text": [
      "899 1902 2801\n"
     ]
    }
   ],
   "source": [
    "new_data = pd.DataFrame(columns=new_columns)\n",
    "new_data = pd.concat([new_data, new_active_rows], axis=0)\n",
    "new_data = pd.concat([new_data, new_inactive_rows], axis=0)\n",
    "print(len(new_active_rows), len(new_inactive_rows), len(new_data))"
   ]
  },
  {
   "cell_type": "code",
   "execution_count": 140,
   "metadata": {},
   "outputs": [
    {
     "data": {
      "text/html": [
       "<div>\n",
       "<style scoped>\n",
       "    .dataframe tbody tr th:only-of-type {\n",
       "        vertical-align: middle;\n",
       "    }\n",
       "\n",
       "    .dataframe tbody tr th {\n",
       "        vertical-align: top;\n",
       "    }\n",
       "\n",
       "    .dataframe thead th {\n",
       "        text-align: right;\n",
       "    }\n",
       "</style>\n",
       "<table border=\"1\" class=\"dataframe\">\n",
       "  <thead>\n",
       "    <tr style=\"text-align: right;\">\n",
       "      <th></th>\n",
       "      <th>CID</th>\n",
       "      <th>SMILES</th>\n",
       "      <th>AVG_IC50_uM</th>\n",
       "      <th>FIRST_LABEL</th>\n",
       "      <th>FINAL_LABEL</th>\n",
       "      <th>DUPLICATE_COUNTS</th>\n",
       "    </tr>\n",
       "  </thead>\n",
       "  <tbody>\n",
       "    <tr>\n",
       "      <th>0</th>\n",
       "      <td>3994</td>\n",
       "      <td>CN(C)c1ccc(cc1)C(=O)NCCCCCCC(=O)NO</td>\n",
       "      <td>20.700000</td>\n",
       "      <td>Active</td>\n",
       "      <td>Active</td>\n",
       "      <td>1</td>\n",
       "    </tr>\n",
       "    <tr>\n",
       "      <th>1</th>\n",
       "      <td>5311</td>\n",
       "      <td>O=C(CCCCCCC(=O)Nc1ccccc1)NO</td>\n",
       "      <td>189.846512</td>\n",
       "      <td>Active</td>\n",
       "      <td>Active</td>\n",
       "      <td>1</td>\n",
       "    </tr>\n",
       "    <tr>\n",
       "      <th>2</th>\n",
       "      <td>65628</td>\n",
       "      <td>Cn1c(CCCC(=O)O)nc2cc(N(CCCl)CCCl)ccc21</td>\n",
       "      <td>9.500000</td>\n",
       "      <td>Active</td>\n",
       "      <td>Active</td>\n",
       "      <td>1</td>\n",
       "    </tr>\n",
       "    <tr>\n",
       "      <th>3</th>\n",
       "      <td>4596836</td>\n",
       "      <td>CCCCNNC(=O)c1ccc(Br)cc1</td>\n",
       "      <td>155.500000</td>\n",
       "      <td>Active</td>\n",
       "      <td>Active</td>\n",
       "      <td>1</td>\n",
       "    </tr>\n",
       "    <tr>\n",
       "      <th>4</th>\n",
       "      <td>6400741</td>\n",
       "      <td>O=C(NCCSSCCNC(=O)/C(Cc1ccc(O)c(Br)c1)=N/O)/C(C...</td>\n",
       "      <td>33.000000</td>\n",
       "      <td>Active</td>\n",
       "      <td>Active</td>\n",
       "      <td>1</td>\n",
       "    </tr>\n",
       "  </tbody>\n",
       "</table>\n",
       "</div>"
      ],
      "text/plain": [
       "       CID                                             SMILES  AVG_IC50_uM  \\\n",
       "0     3994                 CN(C)c1ccc(cc1)C(=O)NCCCCCCC(=O)NO    20.700000   \n",
       "1     5311                        O=C(CCCCCCC(=O)Nc1ccccc1)NO   189.846512   \n",
       "2    65628             Cn1c(CCCC(=O)O)nc2cc(N(CCCl)CCCl)ccc21     9.500000   \n",
       "3  4596836                            CCCCNNC(=O)c1ccc(Br)cc1   155.500000   \n",
       "4  6400741  O=C(NCCSSCCNC(=O)/C(Cc1ccc(O)c(Br)c1)=N/O)/C(C...    33.000000   \n",
       "\n",
       "  FIRST_LABEL FINAL_LABEL DUPLICATE_COUNTS  \n",
       "0      Active      Active                1  \n",
       "1      Active      Active                1  \n",
       "2      Active      Active                1  \n",
       "3      Active      Active                1  \n",
       "4      Active      Active                1  "
      ]
     },
     "execution_count": 140,
     "metadata": {},
     "output_type": "execute_result"
    }
   ],
   "source": [
    "new_data.head()"
   ]
  },
  {
   "cell_type": "code",
   "execution_count": 141,
   "metadata": {},
   "outputs": [
    {
     "name": "stdout",
     "output_type": "stream",
     "text": [
      "Total dataset\n",
      "╒════════════════╤══════════╤════════════╤════════════════╤═══════════════╕\n",
      "│                │   Active │   Inactive │   Inconclusive │   Unspecified │\n",
      "╞════════════════╪══════════╪════════════╪════════════════╪═══════════════╡\n",
      "│ Number         │ 899      │  1902      │              0 │             0 │\n",
      "├────────────────┼──────────┼────────────┼────────────────┼───────────────┤\n",
      "│ Percentage (%) │  32.0957 │    67.9043 │              0 │             0 │\n",
      "╘════════════════╧══════════╧════════════╧════════════════╧═══════════════╛\n"
     ]
    }
   ],
   "source": [
    "show_activity_distribution(dataset=new_data, label='FINAL_LABEL')"
   ]
  },
  {
   "cell_type": "code",
   "execution_count": 142,
   "metadata": {},
   "outputs": [
    {
     "name": "stdout",
     "output_type": "stream",
     "text": [
      "Activity intersection:\n",
      "╒═══════════════════╤═══════════════════════╤══════════════════════╤═════════════════════════╤════════════════════════╤═══════════════════════════╕\n",
      "│   Active-Inactive │   Active-Inconclusive │   Active-Unspecified │   Inactive-Inconclusive │   Inactive-Unspecified │   Inconclusive-Unspecifid │\n",
      "╞═══════════════════╪═══════════════════════╪══════════════════════╪═════════════════════════╪════════════════════════╪═══════════════════════════╡\n",
      "│                 0 │                     0 │                    0 │                       0 │                      0 │                         0 │\n",
      "╘═══════════════════╧═══════════════════════╧══════════════════════╧═════════════════════════╧════════════════════════╧═══════════════════════════╛\n"
     ]
    }
   ],
   "source": [
    "check_label_intersection(dataset=new_data, col_name='FIRST_LABEL')"
   ]
  },
  {
   "attachments": {},
   "cell_type": "markdown",
   "metadata": {},
   "source": [
    "# Remove duplicate smiles"
   ]
  },
  {
   "cell_type": "code",
   "execution_count": 143,
   "metadata": {},
   "outputs": [],
   "source": [
    "def remove_dup_smiles(dataset, smile_col_name):\n",
    "    unique_result = pd.DataFrame(columns=dataset.columns)\n",
    "    dup_result = pd.DataFrame(columns=dataset.columns)\n",
    "    error_result = pd.DataFrame(columns=dataset.columns)\n",
    "    #Start iteration\n",
    "    unique_smiles = dataset[smile_col_name].unique()\n",
    "    for smile in unique_smiles:\n",
    "        sub_dataset = dataset.loc[dataset[smile_col_name] == smile]\n",
    "        if(len(sub_dataset) == 1):\n",
    "            unique_result = pd.concat([unique_result, sub_dataset], axis=0)\n",
    "        elif(len(sub_dataset) > 1):\n",
    "            dup_result = pd.concat([dup_result, sub_dataset], axis=0)\n",
    "        else:\n",
    "            error_result = pd.concat([error_result, sub_dataset], axis=0)\n",
    "    return unique_result, dup_result, error_result"
   ]
  },
  {
   "cell_type": "code",
   "execution_count": 144,
   "metadata": {},
   "outputs": [
    {
     "data": {
      "text/plain": [
       "2801"
      ]
     },
     "execution_count": 144,
     "metadata": {},
     "output_type": "execute_result"
    }
   ],
   "source": [
    "unique_smiles = dataset[smiles_col_name].unique()\n",
    "len(unique_smiles)"
   ]
  },
  {
   "cell_type": "code",
   "execution_count": 145,
   "metadata": {},
   "outputs": [],
   "source": [
    "unique_result, dup_result, error_result = remove_dup_smiles(dataset=new_data, smile_col_name=smiles_col_name)"
   ]
  },
  {
   "cell_type": "code",
   "execution_count": 146,
   "metadata": {},
   "outputs": [
    {
     "name": "stdout",
     "output_type": "stream",
     "text": [
      "2801 0 0\n"
     ]
    }
   ],
   "source": [
    "print(len(unique_result), len(dup_result), len(error_result))"
   ]
  },
  {
   "cell_type": "code",
   "execution_count": 147,
   "metadata": {},
   "outputs": [
    {
     "data": {
      "text/html": [
       "<div>\n",
       "<style scoped>\n",
       "    .dataframe tbody tr th:only-of-type {\n",
       "        vertical-align: middle;\n",
       "    }\n",
       "\n",
       "    .dataframe tbody tr th {\n",
       "        vertical-align: top;\n",
       "    }\n",
       "\n",
       "    .dataframe thead th {\n",
       "        text-align: right;\n",
       "    }\n",
       "</style>\n",
       "<table border=\"1\" class=\"dataframe\">\n",
       "  <thead>\n",
       "    <tr style=\"text-align: right;\">\n",
       "      <th></th>\n",
       "      <th>CID</th>\n",
       "      <th>SMILES</th>\n",
       "      <th>AVG_IC50_uM</th>\n",
       "      <th>FIRST_LABEL</th>\n",
       "      <th>FINAL_LABEL</th>\n",
       "      <th>DUPLICATE_COUNTS</th>\n",
       "    </tr>\n",
       "  </thead>\n",
       "  <tbody>\n",
       "  </tbody>\n",
       "</table>\n",
       "</div>"
      ],
      "text/plain": [
       "Empty DataFrame\n",
       "Columns: [CID, SMILES, AVG_IC50_uM, FIRST_LABEL, FINAL_LABEL, DUPLICATE_COUNTS]\n",
       "Index: []"
      ]
     },
     "execution_count": 147,
     "metadata": {},
     "output_type": "execute_result"
    }
   ],
   "source": [
    "dup_result.head()"
   ]
  },
  {
   "cell_type": "code",
   "execution_count": 148,
   "metadata": {},
   "outputs": [
    {
     "name": "stdout",
     "output_type": "stream",
     "text": [
      "2801\n"
     ]
    },
    {
     "data": {
      "text/html": [
       "<div>\n",
       "<style scoped>\n",
       "    .dataframe tbody tr th:only-of-type {\n",
       "        vertical-align: middle;\n",
       "    }\n",
       "\n",
       "    .dataframe tbody tr th {\n",
       "        vertical-align: top;\n",
       "    }\n",
       "\n",
       "    .dataframe thead th {\n",
       "        text-align: right;\n",
       "    }\n",
       "</style>\n",
       "<table border=\"1\" class=\"dataframe\">\n",
       "  <thead>\n",
       "    <tr style=\"text-align: right;\">\n",
       "      <th></th>\n",
       "      <th>CID</th>\n",
       "      <th>SMILES</th>\n",
       "      <th>AVG_IC50_uM</th>\n",
       "      <th>FIRST_LABEL</th>\n",
       "      <th>FINAL_LABEL</th>\n",
       "      <th>DUPLICATE_COUNTS</th>\n",
       "    </tr>\n",
       "  </thead>\n",
       "  <tbody>\n",
       "    <tr>\n",
       "      <th>0</th>\n",
       "      <td>3994</td>\n",
       "      <td>CN(C)c1ccc(cc1)C(=O)NCCCCCCC(=O)NO</td>\n",
       "      <td>20.700000</td>\n",
       "      <td>Active</td>\n",
       "      <td>Active</td>\n",
       "      <td>1</td>\n",
       "    </tr>\n",
       "    <tr>\n",
       "      <th>1</th>\n",
       "      <td>5311</td>\n",
       "      <td>O=C(CCCCCCC(=O)Nc1ccccc1)NO</td>\n",
       "      <td>189.846512</td>\n",
       "      <td>Active</td>\n",
       "      <td>Active</td>\n",
       "      <td>1</td>\n",
       "    </tr>\n",
       "    <tr>\n",
       "      <th>2</th>\n",
       "      <td>65628</td>\n",
       "      <td>Cn1c(CCCC(=O)O)nc2cc(N(CCCl)CCCl)ccc21</td>\n",
       "      <td>9.500000</td>\n",
       "      <td>Active</td>\n",
       "      <td>Active</td>\n",
       "      <td>1</td>\n",
       "    </tr>\n",
       "    <tr>\n",
       "      <th>3</th>\n",
       "      <td>4596836</td>\n",
       "      <td>CCCCNNC(=O)c1ccc(Br)cc1</td>\n",
       "      <td>155.500000</td>\n",
       "      <td>Active</td>\n",
       "      <td>Active</td>\n",
       "      <td>1</td>\n",
       "    </tr>\n",
       "    <tr>\n",
       "      <th>4</th>\n",
       "      <td>6400741</td>\n",
       "      <td>O=C(NCCSSCCNC(=O)/C(Cc1ccc(O)c(Br)c1)=N/O)/C(C...</td>\n",
       "      <td>33.000000</td>\n",
       "      <td>Active</td>\n",
       "      <td>Active</td>\n",
       "      <td>1</td>\n",
       "    </tr>\n",
       "  </tbody>\n",
       "</table>\n",
       "</div>"
      ],
      "text/plain": [
       "       CID                                             SMILES  AVG_IC50_uM  \\\n",
       "0     3994                 CN(C)c1ccc(cc1)C(=O)NCCCCCCC(=O)NO    20.700000   \n",
       "1     5311                        O=C(CCCCCCC(=O)Nc1ccccc1)NO   189.846512   \n",
       "2    65628             Cn1c(CCCC(=O)O)nc2cc(N(CCCl)CCCl)ccc21     9.500000   \n",
       "3  4596836                            CCCCNNC(=O)c1ccc(Br)cc1   155.500000   \n",
       "4  6400741  O=C(NCCSSCCNC(=O)/C(Cc1ccc(O)c(Br)c1)=N/O)/C(C...    33.000000   \n",
       "\n",
       "  FIRST_LABEL FINAL_LABEL DUPLICATE_COUNTS  \n",
       "0      Active      Active                1  \n",
       "1      Active      Active                1  \n",
       "2      Active      Active                1  \n",
       "3      Active      Active                1  \n",
       "4      Active      Active                1  "
      ]
     },
     "execution_count": 148,
     "metadata": {},
     "output_type": "execute_result"
    }
   ],
   "source": [
    "new_data = unique_result\n",
    "print(len(new_data))\n",
    "new_data.head()"
   ]
  },
  {
   "cell_type": "code",
   "execution_count": 149,
   "metadata": {},
   "outputs": [
    {
     "data": {
      "text/html": [
       "<div>\n",
       "<style scoped>\n",
       "    .dataframe tbody tr th:only-of-type {\n",
       "        vertical-align: middle;\n",
       "    }\n",
       "\n",
       "    .dataframe tbody tr th {\n",
       "        vertical-align: top;\n",
       "    }\n",
       "\n",
       "    .dataframe thead th {\n",
       "        text-align: right;\n",
       "    }\n",
       "</style>\n",
       "<table border=\"1\" class=\"dataframe\">\n",
       "  <thead>\n",
       "    <tr style=\"text-align: right;\">\n",
       "      <th></th>\n",
       "      <th>CID</th>\n",
       "      <th>SMILES</th>\n",
       "      <th>AVG_IC50_uM</th>\n",
       "      <th>FIRST_LABEL</th>\n",
       "      <th>FINAL_LABEL</th>\n",
       "      <th>DUPLICATE_COUNTS</th>\n",
       "    </tr>\n",
       "  </thead>\n",
       "  <tbody>\n",
       "  </tbody>\n",
       "</table>\n",
       "</div>"
      ],
      "text/plain": [
       "Empty DataFrame\n",
       "Columns: [CID, SMILES, AVG_IC50_uM, FIRST_LABEL, FINAL_LABEL, DUPLICATE_COUNTS]\n",
       "Index: []"
      ]
     },
     "execution_count": 149,
     "metadata": {},
     "output_type": "execute_result"
    }
   ],
   "source": [
    "dup_result.head()"
   ]
  },
  {
   "attachments": {},
   "cell_type": "markdown",
   "metadata": {},
   "source": [
    "# Check the preprocessed dataset again"
   ]
  },
  {
   "cell_type": "code",
   "execution_count": 150,
   "metadata": {},
   "outputs": [
    {
     "name": "stdout",
     "output_type": "stream",
     "text": [
      "Activity intersection:\n",
      "╒═══════════════════╤═══════════════════════╤══════════════════════╤═════════════════════════╤════════════════════════╤═══════════════════════════╕\n",
      "│   Active-Inactive │   Active-Inconclusive │   Active-Unspecified │   Inactive-Inconclusive │   Inactive-Unspecified │   Inconclusive-Unspecifid │\n",
      "╞═══════════════════╪═══════════════════════╪══════════════════════╪═════════════════════════╪════════════════════════╪═══════════════════════════╡\n",
      "│                 0 │                     0 │                    0 │                       0 │                      0 │                         0 │\n",
      "╘═══════════════════╧═══════════════════════╧══════════════════════╧═════════════════════════╧════════════════════════╧═══════════════════════════╛\n"
     ]
    }
   ],
   "source": [
    "check_label_intersection(dataset=new_data, col_name='FIRST_LABEL')"
   ]
  },
  {
   "cell_type": "code",
   "execution_count": 151,
   "metadata": {},
   "outputs": [
    {
     "name": "stdout",
     "output_type": "stream",
     "text": [
      "Activity intersection:\n",
      "╒═══════════════════╤═══════════════════════╤══════════════════════╤═════════════════════════╤════════════════════════╤═══════════════════════════╕\n",
      "│   Active-Inactive │   Active-Inconclusive │   Active-Unspecified │   Inactive-Inconclusive │   Inactive-Unspecified │   Inconclusive-Unspecifid │\n",
      "╞═══════════════════╪═══════════════════════╪══════════════════════╪═════════════════════════╪════════════════════════╪═══════════════════════════╡\n",
      "│                 0 │                     0 │                    0 │                       0 │                      0 │                         0 │\n",
      "╘═══════════════════╧═══════════════════════╧══════════════════════╧═════════════════════════╧════════════════════════╧═══════════════════════════╛\n"
     ]
    }
   ],
   "source": [
    "check_label_intersection(dataset=new_data, col_name='FINAL_LABEL')"
   ]
  },
  {
   "cell_type": "code",
   "execution_count": 152,
   "metadata": {},
   "outputs": [
    {
     "name": "stdout",
     "output_type": "stream",
     "text": [
      "Data size: 2801\n",
      "Label for first label:\n",
      "Total dataset\n",
      "╒════════════════╤══════════╤════════════╤════════════════╤═══════════════╕\n",
      "│                │   Active │   Inactive │   Inconclusive │   Unspecified │\n",
      "╞════════════════╪══════════╪════════════╪════════════════╪═══════════════╡\n",
      "│ Number         │ 899      │  1902      │              0 │             0 │\n",
      "├────────────────┼──────────┼────────────┼────────────────┼───────────────┤\n",
      "│ Percentage (%) │  32.0957 │    67.9043 │              0 │             0 │\n",
      "╘════════════════╧══════════╧════════════╧════════════════╧═══════════════╛\n",
      "\n",
      "Label for final label:\n",
      "Total dataset\n",
      "╒════════════════╤══════════╤════════════╤════════════════╤═══════════════╕\n",
      "│                │   Active │   Inactive │   Inconclusive │   Unspecified │\n",
      "╞════════════════╪══════════╪════════════╪════════════════╪═══════════════╡\n",
      "│ Number         │ 899      │  1902      │              0 │             0 │\n",
      "├────────────────┼──────────┼────────────┼────────────────┼───────────────┤\n",
      "│ Percentage (%) │  32.0957 │    67.9043 │              0 │             0 │\n",
      "╘════════════════╧══════════╧════════════╧════════════════╧═══════════════╛\n"
     ]
    }
   ],
   "source": [
    "print(\"Data size: \" + str(len(new_data)))\n",
    "print(\"Label for first label:\")\n",
    "show_activity_distribution(dataset=new_data, label='FIRST_LABEL')\n",
    "print()\n",
    "print(\"Label for final label:\")\n",
    "show_activity_distribution(dataset=new_data, label='FINAL_LABEL')"
   ]
  },
  {
   "cell_type": "code",
   "execution_count": 153,
   "metadata": {},
   "outputs": [
    {
     "name": "stdout",
     "output_type": "stream",
     "text": [
      "0\n"
     ]
    },
    {
     "data": {
      "text/html": [
       "<div>\n",
       "<style scoped>\n",
       "    .dataframe tbody tr th:only-of-type {\n",
       "        vertical-align: middle;\n",
       "    }\n",
       "\n",
       "    .dataframe tbody tr th {\n",
       "        vertical-align: top;\n",
       "    }\n",
       "\n",
       "    .dataframe thead th {\n",
       "        text-align: right;\n",
       "    }\n",
       "</style>\n",
       "<table border=\"1\" class=\"dataframe\">\n",
       "  <thead>\n",
       "    <tr style=\"text-align: right;\">\n",
       "      <th></th>\n",
       "      <th>CID</th>\n",
       "      <th>CHEMBL_ID</th>\n",
       "      <th>BDB_ID</th>\n",
       "      <th>SMILES</th>\n",
       "      <th>IC50 CHEMBL</th>\n",
       "      <th>IC50 BDMB</th>\n",
       "      <th>IC50_nM</th>\n",
       "      <th>LABELS</th>\n",
       "      <th>ZBG Classified</th>\n",
       "    </tr>\n",
       "  </thead>\n",
       "  <tbody>\n",
       "  </tbody>\n",
       "</table>\n",
       "</div>"
      ],
      "text/plain": [
       "Empty DataFrame\n",
       "Columns: [CID, CHEMBL_ID, BDB_ID, SMILES, IC50 CHEMBL, IC50 BDMB, IC50_nM, LABELS, ZBG Classified]\n",
       "Index: []"
      ]
     },
     "execution_count": 153,
     "metadata": {},
     "output_type": "execute_result"
    }
   ],
   "source": [
    "non_float_rows = find_non_float_ic50(dataset, ic50_col_name=ic50_col_name)\n",
    "print(len(non_float_rows))\n",
    "non_float_rows.head()"
   ]
  },
  {
   "cell_type": "markdown",
   "metadata": {},
   "source": [
    "__Check if the SMILES are encodedable__"
   ]
  },
  {
   "cell_type": "code",
   "execution_count": 154,
   "metadata": {},
   "outputs": [],
   "source": [
    "from tqdm import tqdm\n",
    "\n",
    "def maccs_fpts(data):\n",
    "    Maccs_fpts = []\n",
    "    error_index = []\n",
    "    count = 0\n",
    "    with tqdm(total=len(data), desc='Progress') as pbar:\n",
    "        for i in data:\n",
    "            try:\n",
    "                mol = Chem.MolFromSmiles(i)\n",
    "                fpts = MACCSkeys.GenMACCSKeys(mol)\n",
    "            except:\n",
    "                print(\"An exception occurred with \" + str(count))\n",
    "                error_index.append(count)\n",
    "                count += 1\n",
    "                continue\n",
    "            mfpts = np.array(fpts)\n",
    "            Maccs_fpts.append(mfpts)\n",
    "            count += 1\n",
    "            pbar.update(1)  # Update the progress bar\n",
    "    return np.array(Maccs_fpts), error_index"
   ]
  },
  {
   "cell_type": "code",
   "execution_count": 155,
   "metadata": {},
   "outputs": [
    {
     "name": "stderr",
     "output_type": "stream",
     "text": [
      "Progress: 100%|██████████| 2801/2801 [00:01<00:00, 1420.71it/s]\n"
     ]
    }
   ],
   "source": [
    "smiles_data, error_idx = maccs_fpts(new_data['SMILES'])"
   ]
  },
  {
   "cell_type": "code",
   "execution_count": 163,
   "metadata": {},
   "outputs": [
    {
     "data": {
      "text/html": [
       "<div>\n",
       "<style scoped>\n",
       "    .dataframe tbody tr th:only-of-type {\n",
       "        vertical-align: middle;\n",
       "    }\n",
       "\n",
       "    .dataframe tbody tr th {\n",
       "        vertical-align: top;\n",
       "    }\n",
       "\n",
       "    .dataframe thead th {\n",
       "        text-align: right;\n",
       "    }\n",
       "</style>\n",
       "<table border=\"1\" class=\"dataframe\">\n",
       "  <thead>\n",
       "    <tr style=\"text-align: right;\">\n",
       "      <th></th>\n",
       "      <th>CID</th>\n",
       "      <th>SMILES</th>\n",
       "      <th>AVG_IC50_uM</th>\n",
       "      <th>FIRST_LABEL</th>\n",
       "      <th>FINAL_LABEL</th>\n",
       "      <th>DUPLICATE_COUNTS</th>\n",
       "    </tr>\n",
       "  </thead>\n",
       "  <tbody>\n",
       "    <tr>\n",
       "      <th>0</th>\n",
       "      <td>3994</td>\n",
       "      <td>CN(C)c1ccc(cc1)C(=O)NCCCCCCC(=O)NO</td>\n",
       "      <td>20.700000</td>\n",
       "      <td>Active</td>\n",
       "      <td>Active</td>\n",
       "      <td>1</td>\n",
       "    </tr>\n",
       "    <tr>\n",
       "      <th>1</th>\n",
       "      <td>5311</td>\n",
       "      <td>O=C(CCCCCCC(=O)Nc1ccccc1)NO</td>\n",
       "      <td>189.846512</td>\n",
       "      <td>Active</td>\n",
       "      <td>Active</td>\n",
       "      <td>1</td>\n",
       "    </tr>\n",
       "    <tr>\n",
       "      <th>2</th>\n",
       "      <td>65628</td>\n",
       "      <td>Cn1c(CCCC(=O)O)nc2cc(N(CCCl)CCCl)ccc21</td>\n",
       "      <td>9.500000</td>\n",
       "      <td>Active</td>\n",
       "      <td>Active</td>\n",
       "      <td>1</td>\n",
       "    </tr>\n",
       "    <tr>\n",
       "      <th>3</th>\n",
       "      <td>4596836</td>\n",
       "      <td>CCCCNNC(=O)c1ccc(Br)cc1</td>\n",
       "      <td>155.500000</td>\n",
       "      <td>Active</td>\n",
       "      <td>Active</td>\n",
       "      <td>1</td>\n",
       "    </tr>\n",
       "    <tr>\n",
       "      <th>4</th>\n",
       "      <td>6400741</td>\n",
       "      <td>O=C(NCCSSCCNC(=O)/C(Cc1ccc(O)c(Br)c1)=N/O)/C(C...</td>\n",
       "      <td>33.000000</td>\n",
       "      <td>Active</td>\n",
       "      <td>Active</td>\n",
       "      <td>1</td>\n",
       "    </tr>\n",
       "  </tbody>\n",
       "</table>\n",
       "</div>"
      ],
      "text/plain": [
       "       CID                                             SMILES  AVG_IC50_uM  \\\n",
       "0     3994                 CN(C)c1ccc(cc1)C(=O)NCCCCCCC(=O)NO    20.700000   \n",
       "1     5311                        O=C(CCCCCCC(=O)Nc1ccccc1)NO   189.846512   \n",
       "2    65628             Cn1c(CCCC(=O)O)nc2cc(N(CCCl)CCCl)ccc21     9.500000   \n",
       "3  4596836                            CCCCNNC(=O)c1ccc(Br)cc1   155.500000   \n",
       "4  6400741  O=C(NCCSSCCNC(=O)/C(Cc1ccc(O)c(Br)c1)=N/O)/C(C...    33.000000   \n",
       "\n",
       "  FIRST_LABEL FINAL_LABEL DUPLICATE_COUNTS  \n",
       "0      Active      Active                1  \n",
       "1      Active      Active                1  \n",
       "2      Active      Active                1  \n",
       "3      Active      Active                1  \n",
       "4      Active      Active                1  "
      ]
     },
     "execution_count": 163,
     "metadata": {},
     "output_type": "execute_result"
    }
   ],
   "source": [
    "new_data.head()"
   ]
  },
  {
   "cell_type": "code",
   "execution_count": 161,
   "metadata": {},
   "outputs": [
    {
     "data": {
      "text/html": [
       "<div>\n",
       "<style scoped>\n",
       "    .dataframe tbody tr th:only-of-type {\n",
       "        vertical-align: middle;\n",
       "    }\n",
       "\n",
       "    .dataframe tbody tr th {\n",
       "        vertical-align: top;\n",
       "    }\n",
       "\n",
       "    .dataframe thead th {\n",
       "        text-align: right;\n",
       "    }\n",
       "</style>\n",
       "<table border=\"1\" class=\"dataframe\">\n",
       "  <thead>\n",
       "    <tr style=\"text-align: right;\">\n",
       "      <th></th>\n",
       "      <th>CID</th>\n",
       "      <th>CHEMBL_ID</th>\n",
       "      <th>BDB_ID</th>\n",
       "      <th>SMILES</th>\n",
       "      <th>IC50 CHEMBL</th>\n",
       "      <th>IC50 BDMB</th>\n",
       "      <th>IC50_nM</th>\n",
       "      <th>LABELS</th>\n",
       "      <th>ZBG Classified</th>\n",
       "    </tr>\n",
       "  </thead>\n",
       "  <tbody>\n",
       "    <tr>\n",
       "      <th>0</th>\n",
       "      <td>264</td>\n",
       "      <td>CHEMBL14227</td>\n",
       "      <td>26109.0</td>\n",
       "      <td>CCCC(=O)O</td>\n",
       "      <td>206000.000000</td>\n",
       "      <td>206000</td>\n",
       "      <td>206000.000000</td>\n",
       "      <td>Inactive</td>\n",
       "      <td>3</td>\n",
       "    </tr>\n",
       "    <tr>\n",
       "      <th>1</th>\n",
       "      <td>2746</td>\n",
       "      <td>CHEMBL235191</td>\n",
       "      <td>19422.0</td>\n",
       "      <td>CC(=O)Nc1ccc(C(=O)Nc2ccccc2N)cc1</td>\n",
       "      <td>1495.875000</td>\n",
       "      <td>1040.083333</td>\n",
       "      <td>1495.875000</td>\n",
       "      <td>Inactive</td>\n",
       "      <td>4</td>\n",
       "    </tr>\n",
       "    <tr>\n",
       "      <th>2</th>\n",
       "      <td>2788</td>\n",
       "      <td>NaN</td>\n",
       "      <td>32188.0</td>\n",
       "      <td>Oc1c(I)cc(Cl)c2cccnc12</td>\n",
       "      <td>NaN</td>\n",
       "      <td>105800</td>\n",
       "      <td>105800.000000</td>\n",
       "      <td>Inactive</td>\n",
       "      <td>21</td>\n",
       "    </tr>\n",
       "    <tr>\n",
       "      <th>3</th>\n",
       "      <td>3121</td>\n",
       "      <td>CHEMBL109</td>\n",
       "      <td>50003616.0</td>\n",
       "      <td>CCCC(CCC)C(=O)O</td>\n",
       "      <td>288246.666667</td>\n",
       "      <td>288246.666667</td>\n",
       "      <td>288246.666667</td>\n",
       "      <td>Inactive</td>\n",
       "      <td>3</td>\n",
       "    </tr>\n",
       "    <tr>\n",
       "      <th>4</th>\n",
       "      <td>3994</td>\n",
       "      <td>NaN</td>\n",
       "      <td>50082665.0</td>\n",
       "      <td>CN(C)c1ccc(cc1)C(=O)NCCCCCCC(=O)NO</td>\n",
       "      <td>NaN</td>\n",
       "      <td>20.7</td>\n",
       "      <td>20.700000</td>\n",
       "      <td>Active</td>\n",
       "      <td>1</td>\n",
       "    </tr>\n",
       "  </tbody>\n",
       "</table>\n",
       "</div>"
      ],
      "text/plain": [
       "    CID     CHEMBL_ID      BDB_ID                              SMILES  \\\n",
       "0   264   CHEMBL14227     26109.0                           CCCC(=O)O   \n",
       "1  2746  CHEMBL235191     19422.0    CC(=O)Nc1ccc(C(=O)Nc2ccccc2N)cc1   \n",
       "2  2788           NaN     32188.0              Oc1c(I)cc(Cl)c2cccnc12   \n",
       "3  3121     CHEMBL109  50003616.0                     CCCC(CCC)C(=O)O   \n",
       "4  3994           NaN  50082665.0  CN(C)c1ccc(cc1)C(=O)NCCCCCCC(=O)NO   \n",
       "\n",
       "     IC50 CHEMBL      IC50 BDMB        IC50_nM    LABELS  ZBG Classified  \n",
       "0  206000.000000         206000  206000.000000  Inactive               3  \n",
       "1    1495.875000    1040.083333    1495.875000  Inactive               4  \n",
       "2            NaN         105800  105800.000000  Inactive              21  \n",
       "3  288246.666667  288246.666667  288246.666667  Inactive               3  \n",
       "4            NaN           20.7      20.700000    Active               1  "
      ]
     },
     "execution_count": 161,
     "metadata": {},
     "output_type": "execute_result"
    }
   ],
   "source": [
    "dataset_c.head()"
   ]
  },
  {
   "cell_type": "markdown",
   "metadata": {},
   "source": [
    "__Write to file__"
   ]
  },
  {
   "cell_type": "code",
   "execution_count": 164,
   "metadata": {},
   "outputs": [
    {
     "name": "stderr",
     "output_type": "stream",
     "text": [
      "/tmp/ipykernel_191960/3127742887.py:2: FutureWarning: Setting the `book` attribute is not part of the public API, usage can give unexpected or corrupted results and will be removed in a future version\n",
      "  writer.book = writer.book\n"
     ]
    }
   ],
   "source": [
    "with pd.ExcelWriter('../../data_for_modeling/preprocessed_data/HDAC2_all_data_filtered_p2.xlsx', engine='openpyxl') as writer:\n",
    "    writer.book = writer.book \n",
    "    dataset_c.to_excel(writer, sheet_name='original_data', index=False)\n",
    "    new_data.to_excel(writer, sheet_name='filter_data', index=False)\n",
    "    dup_result.to_excel(writer, sheet_name='duplicate_smiles', index=False)\n",
    "    data_ic50_processed.to_excel(writer, sheet_name=\"data_ic50_process\", index=False)"
   ]
  }
 ],
 "metadata": {
  "kernelspec": {
   "display_name": "Python 3",
   "language": "python",
   "name": "python3"
  },
  "language_info": {
   "codemirror_mode": {
    "name": "ipython",
    "version": 3
   },
   "file_extension": ".py",
   "mimetype": "text/x-python",
   "name": "python",
   "nbconvert_exporter": "python",
   "pygments_lexer": "ipython3",
   "version": "3.12.0"
  },
  "orig_nbformat": 4
 },
 "nbformat": 4,
 "nbformat_minor": 2
}
