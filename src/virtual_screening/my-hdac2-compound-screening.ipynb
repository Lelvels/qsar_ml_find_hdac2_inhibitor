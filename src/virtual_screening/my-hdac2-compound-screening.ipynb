{
 "cells": [
  {
   "cell_type": "markdown",
   "metadata": {},
   "source": [
    "__This notebook show the model evaludation results of the models using Morgan2 fingerprint__\n",
    "- Use the my-rdkit-env environment"
   ]
  },
  {
   "cell_type": "code",
   "execution_count": null,
   "metadata": {},
   "outputs": [],
   "source": [
    "from rdkit.Chem import AllChem\n",
    "from rdkit import Chem\n",
    "from rdkit.Chem import Descriptors, MACCSkeys\n",
    "from rdkit.ML.Descriptors import MoleculeDescriptors\n",
    "\n",
    "import pandas as pd\n",
    "import numpy as np\n",
    "import matplotlib.pyplot as plt\n",
    "import seaborn as sns"
   ]
  },
  {
   "attachments": {},
   "cell_type": "markdown",
   "metadata": {},
   "source": [
    "# Read the data"
   ]
  },
  {
   "cell_type": "code",
   "execution_count": null,
   "metadata": {},
   "outputs": [],
   "source": [
    "\n",
    "\n",
    "train_test_path = \"../../data_for_modeling/train_test_data/HDAC2_train_test_data_final.xlsx\"\n",
    "train_dataset = pd.read_excel(train_test_path, sheet_name='train_dataset')\n",
    "test_dataset = pd.read_excel(train_test_path, sheet_name='test_dataset')\n",
    "validation_dataset = pd.read_excel(train_test_path, sheet_name='validation_dataset')\n",
    "\n",
    "#Example:\n",
    "#Choose an xlsx file in the data_for_modeling/screening_dataset folder\n",
    "screening_dataset = \"your_selected_screening_dataset_path.xlsx\"\n",
    "screening_dataset = pd.read_excel(screening_dataset)\n",
    "\n",
    "output_path = \"../../results/screening_results/your_output_file_name.xlsx\""
   ]
  },
  {
   "cell_type": "code",
   "execution_count": null,
   "metadata": {},
   "outputs": [],
   "source": [
    "print(len(train_dataset), len(test_dataset), len(validation_dataset), len(screening_dataset))\n",
    "train_dataset.head()"
   ]
  },
  {
   "cell_type": "code",
   "execution_count": null,
   "metadata": {},
   "outputs": [],
   "source": [
    "screening_dataset.head()"
   ]
  },
  {
   "attachments": {},
   "cell_type": "markdown",
   "metadata": {},
   "source": [
    "# Fingerprint"
   ]
  },
  {
   "attachments": {},
   "cell_type": "markdown",
   "metadata": {},
   "source": [
    "## Encoding function"
   ]
  },
  {
   "cell_type": "code",
   "execution_count": null,
   "metadata": {},
   "outputs": [],
   "source": [
    "#MACCS\n",
    "from tqdm import tqdm\n",
    "\n",
    "def maccs_fpts(data):\n",
    "    Maccs_fpts = []\n",
    "    count = 0\n",
    "    with tqdm(total=len(data), desc='Progress') as pbar:\n",
    "        for i in data:\n",
    "            try:\n",
    "                mol = Chem.MolFromSmiles(i)\n",
    "            except:\n",
    "                print(\"An exception occurred with \" + str(count))\n",
    "                continue\n",
    "            fpts = MACCSkeys.GenMACCSKeys(mol)\n",
    "            mfpts = np.array(fpts)\n",
    "            Maccs_fpts.append(mfpts)\n",
    "            count += 1\n",
    "            pbar.update(1)  # Update the progress bar\n",
    "    return np.array(Maccs_fpts)\n",
    "\n",
    "#maccs\n",
    "def morgan_fpts(data):\n",
    "    Morgan_fpts = []\n",
    "    count = 0\n",
    "    with tqdm(total=len(data), desc='Progress') as pbar:\n",
    "        for i in data:\n",
    "            try:\n",
    "                mol = Chem.MolFromSmiles(i)\n",
    "            except:\n",
    "                print(\"An exception occurred with \" + str(count))\n",
    "                continue\n",
    "            fpts = AllChem.GetMorganFingerprintAsBitVect(mol, 2, 1024)\n",
    "            mfpts = np.array(fpts)\n",
    "            Morgan_fpts.append(mfpts)\n",
    "            count += 1\n",
    "            pbar.update(1)  # Update the progress bar\n",
    "    return np.array(Morgan_fpts)"
   ]
  },
  {
   "attachments": {},
   "cell_type": "markdown",
   "metadata": {},
   "source": [
    "## Building Models"
   ]
  },
  {
   "attachments": {},
   "cell_type": "markdown",
   "metadata": {},
   "source": [
    "### Encoding labels"
   ]
  },
  {
   "cell_type": "code",
   "execution_count": null,
   "metadata": {},
   "outputs": [],
   "source": [
    "import sklearn.preprocessing as preprocessing\n",
    "#Morgan2 data\n",
    "print(\"Starting Morgan2 encoding:\")\n",
    "X_Train_m2 = morgan_fpts(train_dataset['SMILES'])\n",
    "X_Test_m2 = morgan_fpts(test_dataset['SMILES'])\n",
    "X_Validation_m2 = morgan_fpts(validation_dataset['SMILES'])\n",
    "X_Screening_m2 = morgan_fpts(screening_dataset['SMILES'])\n",
    "\n",
    "#Maccs data\n",
    "print(\"Starting MACCS encoding:\")\n",
    "X_Train_ms = maccs_fpts(train_dataset['SMILES'])\n",
    "X_Test_ms = maccs_fpts(test_dataset['SMILES'])\n",
    "X_Validation_ms = maccs_fpts(validation_dataset['SMILES'])\n",
    "X_Screening_ms = maccs_fpts(screening_dataset['SMILES'])"
   ]
  },
  {
   "cell_type": "code",
   "execution_count": null,
   "metadata": {},
   "outputs": [],
   "source": [
    "#y data\n",
    "y_Train = np.array(train_dataset['FINAL_LABEL'])\n",
    "y_Test = np.array(test_dataset['FINAL_LABEL'])\n",
    "y_Validation = np.array(validation_dataset['FINAL_LABEL'])\n",
    "\n",
    "#Original data\n",
    "print(y_Train[0:5])\n",
    "print(y_Test[0:5])\n",
    "print(y_Validation[0:5])\n",
    "\n",
    "#One-hot encoder\n",
    "import sklearn.preprocessing as preprocessing\n",
    "label_encoder = preprocessing.LabelEncoder()\n",
    "y_Train = label_encoder.fit_transform(y_Train)\n",
    "y_Test = label_encoder.fit_transform(y_Test)\n",
    "y_Validation = label_encoder.fit_transform(y_Validation)\n",
    "print(y_Train[0:5])\n",
    "print(y_Test[0:5])\n",
    "print(y_Validation[0:5])"
   ]
  },
  {
   "attachments": {},
   "cell_type": "markdown",
   "metadata": {},
   "source": [
    "### Models training"
   ]
  },
  {
   "cell_type": "code",
   "execution_count": null,
   "metadata": {},
   "outputs": [],
   "source": [
    "from sklearn.svm import SVC\n",
    "from xgboost import XGBClassifier\n",
    "from sklearn.ensemble import RandomForestClassifier\n",
    "\n",
    "#RF\n",
    "rf_morgan2 = RandomForestClassifier(n_estimators=26, criterion='entropy', random_state=0)\n",
    "rf_morgan2.fit(X_Train_m2, y_Train)\n",
    "\n",
    "rf_maccs = RandomForestClassifier(n_estimators=26, criterion='entropy', random_state=0)\n",
    "rf_maccs.fit(X_Train_ms, y_Train)\n",
    "\n",
    "#SVM\n",
    "svm_morgan2 = SVC(kernel='rbf', random_state=0, probability=True)\n",
    "svm_morgan2.fit(X_Train_m2, y_Train)\n",
    "\n",
    "#XgBoost\n",
    "bst_morgan2 = XGBClassifier(objective='binary:logistic', tree_method=\"hist\", max_depth=2)\n",
    "bst_morgan2.fit(X_Train_m2, y_Train)"
   ]
  },
  {
   "attachments": {},
   "cell_type": "markdown",
   "metadata": {},
   "source": [
    "# Predicting on screening dataset"
   ]
  },
  {
   "cell_type": "code",
   "execution_count": null,
   "metadata": {},
   "outputs": [],
   "source": [
    "def screening_data(model, model_name, X_screening, label_encoder, screening_dataset):\n",
    "    #Prediction\n",
    "    y_pred = model.predict(X_screening)\n",
    "    y_pred_proba = model.predict_proba(X_screening)\n",
    "    #Prepare data\n",
    "    y_pred = label_encoder.inverse_transform(y_pred)\n",
    "    screening_dataset['Prediction'] = y_pred\n",
    "    y_pred_proba = pd.DataFrame(y_pred_proba, columns=['Probality for Active', 'Probality for Inactive'])\n",
    "    prediction_df = pd.concat([screening_dataset, y_pred_proba], axis=1)\n",
    "    prediction_df['Model name'] = model_name\n",
    "    return prediction_df"
   ]
  },
  {
   "cell_type": "code",
   "execution_count": null,
   "metadata": {},
   "outputs": [],
   "source": [
    "svm_morgan2_prediction = screening_data(model=svm_morgan2, model_name=\"SVM-Morgan2\", X_screening=X_Screening_m2, label_encoder=label_encoder, screening_dataset=screening_dataset)\n",
    "bst_morgan2_prediction = screening_data(model=bst_morgan2, model_name=\"XgBoost-Morgan2\", X_screening=X_Screening_m2, label_encoder=label_encoder, screening_dataset=screening_dataset)\n",
    "rf_morgan2_prediction = screening_data(model=rf_morgan2, model_name=\"RF-Morgan2\", X_screening=X_Screening_m2, label_encoder=label_encoder, screening_dataset=screening_dataset)\n",
    "rf_maccs_prediction = screening_data(model=rf_maccs, model_name=\"RF-MACCS\", X_screening=X_Screening_ms, label_encoder=label_encoder, screening_dataset=screening_dataset)"
   ]
  },
  {
   "cell_type": "code",
   "execution_count": null,
   "metadata": {},
   "outputs": [],
   "source": [
    "print(svm_morgan2_prediction.shape, bst_morgan2_prediction.shape, rf_morgan2_prediction.shape, rf_maccs_prediction.shape)"
   ]
  },
  {
   "cell_type": "code",
   "execution_count": null,
   "metadata": {},
   "outputs": [],
   "source": [
    "svm_morgan2_prediction.head()"
   ]
  },
  {
   "cell_type": "markdown",
   "metadata": {},
   "source": [
    "# Write to file"
   ]
  },
  {
   "cell_type": "code",
   "execution_count": null,
   "metadata": {},
   "outputs": [],
   "source": [
    "with pd.ExcelWriter(output_path) as writer:\n",
    "    rf_morgan2_prediction.to_excel(writer, sheet_name=\"RF-Morgan2\", index=False)\n",
    "    svm_morgan2_prediction.to_excel(writer, sheet_name=\"SVM-Morgan2\", index=False)\n",
    "    bst_morgan2_prediction.to_excel(writer, sheet_name=\"BST-Morgan2\", index=False)\n",
    "    rf_maccs_prediction.to_excel(writer, sheet_name=\"RF-MACCS\", index=False)"
   ]
  }
 ],
 "metadata": {
  "kernelspec": {
   "display_name": "my-rdkit-env",
   "language": "python",
   "name": "python3"
  },
  "language_info": {
   "codemirror_mode": {
    "name": "ipython",
    "version": 3
   },
   "file_extension": ".py",
   "mimetype": "text/x-python",
   "name": "python",
   "nbconvert_exporter": "python",
   "pygments_lexer": "ipython3",
   "version": "3.12.0"
  },
  "orig_nbformat": 4
 },
 "nbformat": 4,
 "nbformat_minor": 2
}
