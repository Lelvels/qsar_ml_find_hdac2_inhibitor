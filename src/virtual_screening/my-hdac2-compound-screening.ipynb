{
 "cells": [
  {
   "cell_type": "markdown",
   "metadata": {},
   "source": [
    "__This notebook show the model evaludation results of the models using Morgan2 fingerprint__\n",
    "- Use the my-rdkit-env environment"
   ]
  },
  {
   "cell_type": "code",
   "execution_count": 1,
   "metadata": {},
   "outputs": [],
   "source": [
    "from rdkit.Chem import AllChem\n",
    "from rdkit import Chem\n",
    "from rdkit.Chem import Descriptors, MACCSkeys\n",
    "from rdkit.ML.Descriptors import MoleculeDescriptors\n",
    "\n",
    "import pandas as pd\n",
    "import numpy as np\n",
    "import matplotlib.pyplot as plt\n",
    "import seaborn as sns\n",
    "from joblib import dump, load\n",
    "from sklearn.preprocessing import LabelEncoder"
   ]
  },
  {
   "attachments": {},
   "cell_type": "markdown",
   "metadata": {},
   "source": [
    "# Import screening data"
   ]
  },
  {
   "cell_type": "code",
   "execution_count": 2,
   "metadata": {},
   "outputs": [],
   "source": [
    "#Example:\n",
    "screening_dataset = \"../../data_for_modeling/new_screening_dataset/20240301_CID_45mil_to_82mils.csv\"\n",
    "screening_dataset = pd.read_csv(screening_dataset)"
   ]
  },
  {
   "cell_type": "code",
   "execution_count": 3,
   "metadata": {},
   "outputs": [
    {
     "name": "stdout",
     "output_type": "stream",
     "text": [
      "16838\n"
     ]
    },
    {
     "data": {
      "text/html": [
       "<div>\n",
       "<style scoped>\n",
       "    .dataframe tbody tr th:only-of-type {\n",
       "        vertical-align: middle;\n",
       "    }\n",
       "\n",
       "    .dataframe tbody tr th {\n",
       "        vertical-align: top;\n",
       "    }\n",
       "\n",
       "    .dataframe thead th {\n",
       "        text-align: right;\n",
       "    }\n",
       "</style>\n",
       "<table border=\"1\" class=\"dataframe\">\n",
       "  <thead>\n",
       "    <tr style=\"text-align: right;\">\n",
       "      <th></th>\n",
       "      <th>id</th>\n",
       "      <th>cid</th>\n",
       "      <th>smiles</th>\n",
       "      <th>molecular_weight</th>\n",
       "      <th>new_average_distance</th>\n",
       "    </tr>\n",
       "  </thead>\n",
       "  <tbody>\n",
       "    <tr>\n",
       "      <th>0</th>\n",
       "      <td>22688120</td>\n",
       "      <td>45361801</td>\n",
       "      <td>CNC(=O)C1=CC=C(C=C1)C2=NC3=C(O2)C=CC(=C3)N</td>\n",
       "      <td>267.100777</td>\n",
       "      <td>0.511924</td>\n",
       "    </tr>\n",
       "    <tr>\n",
       "      <th>1</th>\n",
       "      <td>22718809</td>\n",
       "      <td>45496646</td>\n",
       "      <td>CC(=O)CC1=NC(=NO1)C2=CC=C(C=C2)F</td>\n",
       "      <td>220.064806</td>\n",
       "      <td>0.506192</td>\n",
       "    </tr>\n",
       "    <tr>\n",
       "      <th>2</th>\n",
       "      <td>22719665</td>\n",
       "      <td>45497547</td>\n",
       "      <td>CC1=C(C2=CC=CC=C2N1)CCNCC3=CC(=C(C(=C3)OC)OC)OC</td>\n",
       "      <td>354.194343</td>\n",
       "      <td>0.513377</td>\n",
       "    </tr>\n",
       "    <tr>\n",
       "      <th>3</th>\n",
       "      <td>22696083</td>\n",
       "      <td>45379211</td>\n",
       "      <td>C1=CC=C(C=C1)C2=CC=C(C=C2)NC(=O)CCCBr</td>\n",
       "      <td>317.041526</td>\n",
       "      <td>0.522159</td>\n",
       "    </tr>\n",
       "    <tr>\n",
       "      <th>4</th>\n",
       "      <td>22727689</td>\n",
       "      <td>45505682</td>\n",
       "      <td>CC1=C(C2=CC=CC=C2N1)CCN(CC3=CC=C(C=C3)/C=C/C(=...</td>\n",
       "      <td>522.251858</td>\n",
       "      <td>0.544763</td>\n",
       "    </tr>\n",
       "  </tbody>\n",
       "</table>\n",
       "</div>"
      ],
      "text/plain": [
       "         id       cid                                             smiles  \\\n",
       "0  22688120  45361801         CNC(=O)C1=CC=C(C=C1)C2=NC3=C(O2)C=CC(=C3)N   \n",
       "1  22718809  45496646                   CC(=O)CC1=NC(=NO1)C2=CC=C(C=C2)F   \n",
       "2  22719665  45497547    CC1=C(C2=CC=CC=C2N1)CCNCC3=CC(=C(C(=C3)OC)OC)OC   \n",
       "3  22696083  45379211              C1=CC=C(C=C1)C2=CC=C(C=C2)NC(=O)CCCBr   \n",
       "4  22727689  45505682  CC1=C(C2=CC=CC=C2N1)CCN(CC3=CC=C(C=C3)/C=C/C(=...   \n",
       "\n",
       "   molecular_weight  new_average_distance  \n",
       "0        267.100777              0.511924  \n",
       "1        220.064806              0.506192  \n",
       "2        354.194343              0.513377  \n",
       "3        317.041526              0.522159  \n",
       "4        522.251858              0.544763  "
      ]
     },
     "execution_count": 3,
     "metadata": {},
     "output_type": "execute_result"
    }
   ],
   "source": [
    "print(len(screening_dataset))\n",
    "screening_dataset.head()"
   ]
  },
  {
   "cell_type": "code",
   "execution_count": 4,
   "metadata": {},
   "outputs": [
    {
     "data": {
      "text/html": [
       "<div>\n",
       "<style scoped>\n",
       "    .dataframe tbody tr th:only-of-type {\n",
       "        vertical-align: middle;\n",
       "    }\n",
       "\n",
       "    .dataframe tbody tr th {\n",
       "        vertical-align: top;\n",
       "    }\n",
       "\n",
       "    .dataframe thead th {\n",
       "        text-align: right;\n",
       "    }\n",
       "</style>\n",
       "<table border=\"1\" class=\"dataframe\">\n",
       "  <thead>\n",
       "    <tr style=\"text-align: right;\">\n",
       "      <th></th>\n",
       "      <th>id</th>\n",
       "      <th>cid</th>\n",
       "      <th>smiles</th>\n",
       "      <th>molecular_weight</th>\n",
       "      <th>new_average_distance</th>\n",
       "    </tr>\n",
       "  </thead>\n",
       "  <tbody>\n",
       "    <tr>\n",
       "      <th>0</th>\n",
       "      <td>22688120</td>\n",
       "      <td>45361801</td>\n",
       "      <td>CNC(=O)C1=CC=C(C=C1)C2=NC3=C(O2)C=CC(=C3)N</td>\n",
       "      <td>267.100777</td>\n",
       "      <td>0.511924</td>\n",
       "    </tr>\n",
       "    <tr>\n",
       "      <th>1</th>\n",
       "      <td>22718809</td>\n",
       "      <td>45496646</td>\n",
       "      <td>CC(=O)CC1=NC(=NO1)C2=CC=C(C=C2)F</td>\n",
       "      <td>220.064806</td>\n",
       "      <td>0.506192</td>\n",
       "    </tr>\n",
       "    <tr>\n",
       "      <th>2</th>\n",
       "      <td>22719665</td>\n",
       "      <td>45497547</td>\n",
       "      <td>CC1=C(C2=CC=CC=C2N1)CCNCC3=CC(=C(C(=C3)OC)OC)OC</td>\n",
       "      <td>354.194343</td>\n",
       "      <td>0.513377</td>\n",
       "    </tr>\n",
       "    <tr>\n",
       "      <th>3</th>\n",
       "      <td>22696083</td>\n",
       "      <td>45379211</td>\n",
       "      <td>C1=CC=C(C=C1)C2=CC=C(C=C2)NC(=O)CCCBr</td>\n",
       "      <td>317.041526</td>\n",
       "      <td>0.522159</td>\n",
       "    </tr>\n",
       "    <tr>\n",
       "      <th>4</th>\n",
       "      <td>22727689</td>\n",
       "      <td>45505682</td>\n",
       "      <td>CC1=C(C2=CC=CC=C2N1)CCN(CC3=CC=C(C=C3)/C=C/C(=...</td>\n",
       "      <td>522.251858</td>\n",
       "      <td>0.544763</td>\n",
       "    </tr>\n",
       "  </tbody>\n",
       "</table>\n",
       "</div>"
      ],
      "text/plain": [
       "         id       cid                                             smiles  \\\n",
       "0  22688120  45361801         CNC(=O)C1=CC=C(C=C1)C2=NC3=C(O2)C=CC(=C3)N   \n",
       "1  22718809  45496646                   CC(=O)CC1=NC(=NO1)C2=CC=C(C=C2)F   \n",
       "2  22719665  45497547    CC1=C(C2=CC=CC=C2N1)CCNCC3=CC(=C(C(=C3)OC)OC)OC   \n",
       "3  22696083  45379211              C1=CC=C(C=C1)C2=CC=C(C=C2)NC(=O)CCCBr   \n",
       "4  22727689  45505682  CC1=C(C2=CC=CC=C2N1)CCN(CC3=CC=C(C=C3)/C=C/C(=...   \n",
       "\n",
       "   molecular_weight  new_average_distance  \n",
       "0        267.100777              0.511924  \n",
       "1        220.064806              0.506192  \n",
       "2        354.194343              0.513377  \n",
       "3        317.041526              0.522159  \n",
       "4        522.251858              0.544763  "
      ]
     },
     "execution_count": 4,
     "metadata": {},
     "output_type": "execute_result"
    }
   ],
   "source": [
    "screening_dataset.head()"
   ]
  },
  {
   "attachments": {},
   "cell_type": "markdown",
   "metadata": {},
   "source": [
    "# Fingerprint"
   ]
  },
  {
   "attachments": {},
   "cell_type": "markdown",
   "metadata": {},
   "source": [
    "## Encoding function"
   ]
  },
  {
   "cell_type": "code",
   "execution_count": 5,
   "metadata": {},
   "outputs": [],
   "source": [
    "#MACCS\n",
    "from tqdm import tqdm\n",
    "\n",
    "def maccs_fpts(data):\n",
    "    Maccs_fpts = []\n",
    "    count = 0\n",
    "    with tqdm(total=len(data), desc='Progress') as pbar:\n",
    "        for i in data:\n",
    "            try:\n",
    "                mol = Chem.MolFromSmiles(i)\n",
    "                fpts = MACCSkeys.GenMACCSKeys(mol)\n",
    "            except:\n",
    "                print(\"An exception occurred with \" + str(count))\n",
    "                continue\n",
    "            mfpts = np.array(fpts)\n",
    "            Maccs_fpts.append(mfpts)\n",
    "            count += 1\n",
    "            pbar.update(1)  # Update the progress bar\n",
    "    return np.array(Maccs_fpts)\n",
    "\n",
    "def ecfp4_fpts(data):\n",
    "    Morgan_fpts = []\n",
    "    count = 0\n",
    "    with tqdm(total=len(data), desc='Progress') as pbar:\n",
    "        for i in data:\n",
    "            try:\n",
    "                mol = Chem.MolFromSmiles(i)\n",
    "                fpts = AllChem.GetMorganFingerprintAsBitVect(mol=mol, radius=2, nBits=1024)\n",
    "            except:\n",
    "                print(\"An exception occurred with \" + str(count))\n",
    "                continue\n",
    "            mfpts = np.array(fpts)\n",
    "            Morgan_fpts.append(mfpts)\n",
    "            count += 1\n",
    "            pbar.update(1)  # Update the progress bar\n",
    "    return np.array(Morgan_fpts)"
   ]
  },
  {
   "cell_type": "code",
   "execution_count": 6,
   "metadata": {},
   "outputs": [
    {
     "name": "stderr",
     "output_type": "stream",
     "text": [
      "Progress:   4%|▎         | 614/16838 [00:00<00:05, 3108.51it/s][09:26:19] WARNING: not removing hydrogen atom without neighbors\n",
      "Progress:  83%|████████▎ | 14026/16838 [00:04<00:00, 3293.43it/s][09:26:23] WARNING: not removing hydrogen atom without neighbors\n",
      "[09:26:23] WARNING: not removing hydrogen atom without neighbors\n",
      "Progress: 100%|██████████| 16838/16838 [00:05<00:00, 3250.55it/s]\n",
      "Progress:   3%|▎         | 529/16838 [00:00<00:09, 1712.58it/s][09:26:24] WARNING: not removing hydrogen atom without neighbors\n",
      "Progress:  84%|████████▍ | 14182/16838 [00:08<00:01, 1720.50it/s][09:26:33] WARNING: not removing hydrogen atom without neighbors\n",
      "[09:26:33] WARNING: not removing hydrogen atom without neighbors\n",
      "Progress: 100%|██████████| 16838/16838 [00:10<00:00, 1558.54it/s]\n"
     ]
    }
   ],
   "source": [
    "# X_Screening_m2 = morgan_fpts(screening_dataset['smiles'])\n",
    "X_Screening_ecfp4 = ecfp4_fpts(screening_dataset['smiles'])\n",
    "X_Screening_ms = maccs_fpts(screening_dataset['smiles'])"
   ]
  },
  {
   "cell_type": "code",
   "execution_count": 7,
   "metadata": {},
   "outputs": [
    {
     "data": {
      "text/plain": [
       "array([0, 1])"
      ]
     },
     "execution_count": 7,
     "metadata": {},
     "output_type": "execute_result"
    }
   ],
   "source": [
    "label_encoder = LabelEncoder()\n",
    "label_encoder.fit_transform(['active', 'inactive'])"
   ]
  },
  {
   "attachments": {},
   "cell_type": "markdown",
   "metadata": {},
   "source": [
    "## Building Models"
   ]
  },
  {
   "attachments": {},
   "cell_type": "markdown",
   "metadata": {},
   "source": [
    "### Models loading"
   ]
  },
  {
   "cell_type": "code",
   "execution_count": 8,
   "metadata": {},
   "outputs": [],
   "source": [
    "from sklearn.svm import SVC\n",
    "from xgboost import XGBClassifier\n",
    "from sklearn.ensemble import RandomForestClassifier\n",
    "\n",
    "#Model data path\n",
    "model_data_path = \"../../results/models/\"\n",
    "\n",
    "#XgBoost\n",
    "bst_ecfp4 = XGBClassifier(objective='binary:logistic', tree_method = \"hist\", device = \"cuda\")\n",
    "bst_ecfp4.load_model(\"../../results/models/xgboost_ecfp4.json\")\n",
    "\n",
    "bst_maccs = XGBClassifier(objective='binary:logistic', tree_method = \"hist\", device = \"cuda\")\n",
    "bst_maccs.load_model(\"../../results/models/xgboost_maccs.json\")\n",
    "\n",
    "rf_ecfp4 = load(model_data_path+\"rf_ecfp4.joblib\")\n",
    "svm_ecfp4 = load(model_data_path+\"svm_ecfp4.joblib\")"
   ]
  },
  {
   "attachments": {},
   "cell_type": "markdown",
   "metadata": {},
   "source": [
    "# Predicting on screening dataset"
   ]
  },
  {
   "cell_type": "code",
   "execution_count": 9,
   "metadata": {},
   "outputs": [],
   "source": [
    "def screening_data(model, model_name, X_screening, label_encoder, screening_dataset):\n",
    "    #Prediction\n",
    "    y_pred = model.predict(X_screening)\n",
    "    y_pred_proba = model.predict_proba(X_screening)\n",
    "    #Prepare data\n",
    "    y_pred = label_encoder.inverse_transform(y_pred)\n",
    "    screening_dataset['Prediction'] = y_pred\n",
    "    y_pred_proba = pd.DataFrame(y_pred_proba, columns=['Probality for Active', 'Probality for Inactive'])\n",
    "    prediction_df = pd.concat([screening_dataset, y_pred_proba], axis=1)\n",
    "    prediction_df['Model name'] = model_name\n",
    "    return prediction_df"
   ]
  },
  {
   "cell_type": "code",
   "execution_count": 10,
   "metadata": {},
   "outputs": [],
   "source": [
    "svm_prediction = screening_data(model=svm_ecfp4, model_name=\"SVM-ECFP4\", X_screening=X_Screening_ecfp4, label_encoder=label_encoder, screening_dataset=screening_dataset)\n",
    "rf_prediction = screening_data(model=rf_ecfp4, model_name=\"RF-ECFP4\", X_screening=X_Screening_ecfp4, label_encoder=label_encoder, screening_dataset=screening_dataset)\n",
    "bst_ecfp4_prediction = screening_data(model=bst_ecfp4, model_name=\"XgBoost-ECFP4\", X_screening=X_Screening_ecfp4, label_encoder=label_encoder, screening_dataset=screening_dataset)\n",
    "bst_ms_prediction = screening_data(model=bst_maccs, model_name=\"XgBoost-MACCS\", X_screening=X_Screening_ms, label_encoder=label_encoder, screening_dataset=screening_dataset)"
   ]
  },
  {
   "cell_type": "code",
   "execution_count": 11,
   "metadata": {},
   "outputs": [
    {
     "name": "stdout",
     "output_type": "stream",
     "text": [
      "(16838, 9) (16838, 9) (16838, 9) (16838, 9)\n"
     ]
    }
   ],
   "source": [
    "print(svm_prediction.shape, rf_prediction.shape, bst_ecfp4_prediction.shape, bst_ms_prediction.shape)"
   ]
  },
  {
   "cell_type": "code",
   "execution_count": 12,
   "metadata": {},
   "outputs": [
    {
     "data": {
      "text/html": [
       "<div>\n",
       "<style scoped>\n",
       "    .dataframe tbody tr th:only-of-type {\n",
       "        vertical-align: middle;\n",
       "    }\n",
       "\n",
       "    .dataframe tbody tr th {\n",
       "        vertical-align: top;\n",
       "    }\n",
       "\n",
       "    .dataframe thead th {\n",
       "        text-align: right;\n",
       "    }\n",
       "</style>\n",
       "<table border=\"1\" class=\"dataframe\">\n",
       "  <thead>\n",
       "    <tr style=\"text-align: right;\">\n",
       "      <th></th>\n",
       "      <th>id</th>\n",
       "      <th>cid</th>\n",
       "      <th>smiles</th>\n",
       "      <th>molecular_weight</th>\n",
       "      <th>new_average_distance</th>\n",
       "      <th>Prediction</th>\n",
       "      <th>Probality for Active</th>\n",
       "      <th>Probality for Inactive</th>\n",
       "      <th>Model name</th>\n",
       "    </tr>\n",
       "  </thead>\n",
       "  <tbody>\n",
       "    <tr>\n",
       "      <th>0</th>\n",
       "      <td>22688120</td>\n",
       "      <td>45361801</td>\n",
       "      <td>CNC(=O)C1=CC=C(C=C1)C2=NC3=C(O2)C=CC(=C3)N</td>\n",
       "      <td>267.100777</td>\n",
       "      <td>0.511924</td>\n",
       "      <td>inactive</td>\n",
       "      <td>0.165867</td>\n",
       "      <td>0.834133</td>\n",
       "      <td>SVM-ECFP4</td>\n",
       "    </tr>\n",
       "    <tr>\n",
       "      <th>1</th>\n",
       "      <td>22718809</td>\n",
       "      <td>45496646</td>\n",
       "      <td>CC(=O)CC1=NC(=NO1)C2=CC=C(C=C2)F</td>\n",
       "      <td>220.064806</td>\n",
       "      <td>0.506192</td>\n",
       "      <td>inactive</td>\n",
       "      <td>0.019066</td>\n",
       "      <td>0.980934</td>\n",
       "      <td>SVM-ECFP4</td>\n",
       "    </tr>\n",
       "    <tr>\n",
       "      <th>2</th>\n",
       "      <td>22719665</td>\n",
       "      <td>45497547</td>\n",
       "      <td>CC1=C(C2=CC=CC=C2N1)CCNCC3=CC(=C(C(=C3)OC)OC)OC</td>\n",
       "      <td>354.194343</td>\n",
       "      <td>0.513377</td>\n",
       "      <td>inactive</td>\n",
       "      <td>0.064132</td>\n",
       "      <td>0.935868</td>\n",
       "      <td>SVM-ECFP4</td>\n",
       "    </tr>\n",
       "    <tr>\n",
       "      <th>3</th>\n",
       "      <td>22696083</td>\n",
       "      <td>45379211</td>\n",
       "      <td>C1=CC=C(C=C1)C2=CC=C(C=C2)NC(=O)CCCBr</td>\n",
       "      <td>317.041526</td>\n",
       "      <td>0.522159</td>\n",
       "      <td>inactive</td>\n",
       "      <td>0.052163</td>\n",
       "      <td>0.947837</td>\n",
       "      <td>SVM-ECFP4</td>\n",
       "    </tr>\n",
       "    <tr>\n",
       "      <th>4</th>\n",
       "      <td>22727689</td>\n",
       "      <td>45505682</td>\n",
       "      <td>CC1=C(C2=CC=CC=C2N1)CCN(CC3=CC=C(C=C3)/C=C/C(=...</td>\n",
       "      <td>522.251858</td>\n",
       "      <td>0.544763</td>\n",
       "      <td>inactive</td>\n",
       "      <td>0.065978</td>\n",
       "      <td>0.934022</td>\n",
       "      <td>SVM-ECFP4</td>\n",
       "    </tr>\n",
       "  </tbody>\n",
       "</table>\n",
       "</div>"
      ],
      "text/plain": [
       "         id       cid                                             smiles  \\\n",
       "0  22688120  45361801         CNC(=O)C1=CC=C(C=C1)C2=NC3=C(O2)C=CC(=C3)N   \n",
       "1  22718809  45496646                   CC(=O)CC1=NC(=NO1)C2=CC=C(C=C2)F   \n",
       "2  22719665  45497547    CC1=C(C2=CC=CC=C2N1)CCNCC3=CC(=C(C(=C3)OC)OC)OC   \n",
       "3  22696083  45379211              C1=CC=C(C=C1)C2=CC=C(C=C2)NC(=O)CCCBr   \n",
       "4  22727689  45505682  CC1=C(C2=CC=CC=C2N1)CCN(CC3=CC=C(C=C3)/C=C/C(=...   \n",
       "\n",
       "   molecular_weight  new_average_distance Prediction  Probality for Active  \\\n",
       "0        267.100777              0.511924   inactive              0.165867   \n",
       "1        220.064806              0.506192   inactive              0.019066   \n",
       "2        354.194343              0.513377   inactive              0.064132   \n",
       "3        317.041526              0.522159   inactive              0.052163   \n",
       "4        522.251858              0.544763   inactive              0.065978   \n",
       "\n",
       "   Probality for Inactive Model name  \n",
       "0                0.834133  SVM-ECFP4  \n",
       "1                0.980934  SVM-ECFP4  \n",
       "2                0.935868  SVM-ECFP4  \n",
       "3                0.947837  SVM-ECFP4  \n",
       "4                0.934022  SVM-ECFP4  "
      ]
     },
     "execution_count": 12,
     "metadata": {},
     "output_type": "execute_result"
    }
   ],
   "source": [
    "svm_prediction.head()"
   ]
  },
  {
   "cell_type": "markdown",
   "metadata": {},
   "source": [
    "# Write to file"
   ]
  },
  {
   "cell_type": "code",
   "execution_count": null,
   "metadata": {},
   "outputs": [],
   "source": [
    "output_path = \"../../results/new_screening_results/20240301_CID_45_to_82mils_screening_results.xlsx\"\n",
    "with pd.ExcelWriter(output_path) as writer:\n",
    "    screening_dataset.to_excel(writer, sheet_name=\"Original data\", index=False)\n",
    "    rf_prediction.to_excel(writer, sheet_name=\"RF-ECFP4\", index=False)\n",
    "    svm_prediction.to_excel(writer, sheet_name=\"SVM-ECFP4\", index=False)\n",
    "    bst_ecfp4_prediction.to_excel(writer, sheet_name=\"BST-ECP4\", index=False)\n",
    "    bst_ms_prediction.to_excel(writer, sheet_name=\"XgBoost-MACCS\", index=False)"
   ]
  }
 ],
 "metadata": {
  "kernelspec": {
   "display_name": "my-rdkit-env",
   "language": "python",
   "name": "python3"
  },
  "language_info": {
   "codemirror_mode": {
    "name": "ipython",
    "version": 3
   },
   "file_extension": ".py",
   "mimetype": "text/x-python",
   "name": "python",
   "nbconvert_exporter": "python",
   "pygments_lexer": "ipython3",
   "version": "3.11.3"
  },
  "orig_nbformat": 4
 },
 "nbformat": 4,
 "nbformat_minor": 2
}
